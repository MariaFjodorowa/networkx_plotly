{
 "cells": [
  {
   "cell_type": "markdown",
   "metadata": {
    "id": "RhXSP7Ppjs1F"
   },
   "source": [
    "A graph is a structure amounting to a set of objects in which some pairs of the objects are in some sense \"related\". The objects correspond to mathematical abstractions called vertices (also called nodes or points) and each of the related pairs of vertices is called an edge (also called link or line)."
   ]
  },
  {
   "cell_type": "markdown",
   "metadata": {
    "id": "21N2MgokiUK-"
   },
   "source": [
    "https://networkx.org/\n",
    "    \n",
    "\n",
    "    - Data structures for graphs, digraphs, and multigraphs\n",
    "    \n",
    "    - Many standard graph algorithms\n",
    "    \n",
    "    - Network structure and analysis measures\n",
    "    \n",
    "    - Generators for classic graphs, random graphs, and synthetic networks\n",
    "    \n",
    "    - Nodes can be \"anything\" (e.g., text, images, XML records)\n",
    "    \n",
    "    - Edges can hold arbitrary data (e.g., weights, time-series)\n",
    "    \n",
    "    - Open source 3-clause BSD license\n",
    "    \n",
    "    - Well tested with over 90% code coverage\n",
    "    \n",
    "    - Additional benefits from Python include fast prototyping, easy to teach, and multi-platform\n",
    "    \n",
    "https://plotly.com/python/network-graphs/"
   ]
  },
  {
   "cell_type": "code",
   "execution_count": null,
   "metadata": {
    "id": "S1mNPQZViULJ"
   },
   "outputs": [],
   "source": [
    "import json\n",
    "import requests\n",
    "from time import sleep\n",
    "import plotly.graph_objects as go\n",
    "import networkx as nx\n",
    "import matplotlib.pyplot as plt\n",
    "from tqdm.notebook import tqdm"
   ]
  },
  {
   "cell_type": "markdown",
   "metadata": {
    "id": "UltnQ3gXiULL"
   },
   "source": [
    "https://www.kaggle.com/datasets/ruchi798/star-wars?resource=download"
   ]
  },
  {
   "cell_type": "code",
   "execution_count": null,
   "metadata": {
    "colab": {
     "base_uri": "https://localhost:8080/"
    },
    "id": "AevCcbVdi_Pq",
    "outputId": "7b0e7c9d-54b5-4099-804f-1e05070c4971"
   },
   "outputs": [
    {
     "name": "stdout",
     "output_type": "stream",
     "text": [
      "Mounted at /content/drive\n"
     ]
    }
   ],
   "source": [
    "from google.colab import drive\n",
    "drive.mount('/content/drive')"
   ]
  },
  {
   "cell_type": "markdown",
   "metadata": {
    "id": "WTixgHXli9a-"
   },
   "source": [
    "https://drive.google.com/drive/folders/1mp2Wv1_lPBR7q-AA7DEn6W5jTxx6U6HH?usp=sharing"
   ]
  },
  {
   "cell_type": "code",
   "execution_count": null,
   "metadata": {
    "id": "_FfKHdnXiULM"
   },
   "outputs": [],
   "source": [
    "data_path = 'drive/MyDrive/archive/starwars-episode-3-interactions.json'\n",
    "#   starwars-episode-N-interactions.json contains the social network extracted from Episode N,\n",
    "# where the links between characters are defined by the times the characters speak within the same scene."
   ]
  },
  {
   "cell_type": "markdown",
   "metadata": {
    "id": "W7hG5PohiULN"
   },
   "source": [
    "Nodes\n",
    "\n",
    "    name: Name of the character\n",
    "    \n",
    "    value: Number of scenes the character appeared in\n",
    "    \n",
    "    colour: Colour in the visualization\n",
    "\n",
    "Links represent connections between characters\n",
    "\n",
    "    source: zero-based index of the character that is one end of the link, the order of nodes is the order in which they are listed in the “nodes” element\n",
    "    \n",
    "    target: zero-based index of the character that is the the other end of the link.\n",
    "    \n",
    "    value: Number of scenes where the “source character” and “target character” of the link appeared together.\n"
   ]
  },
  {
   "cell_type": "code",
   "execution_count": null,
   "metadata": {
    "colab": {
     "base_uri": "https://localhost:8080/"
    },
    "id": "cUqV_RwCiULO",
    "outputId": "418f9aa8-1365-4c04-dd27-53741d6fc1cb"
   },
   "outputs": [
    {
     "name": "stdout",
     "output_type": "stream",
     "text": [
      "{'nodes': [{'name': 'ANAKIN', 'value': 53, 'colour': '#ce3b59'}, {'name': 'OBI-WAN', 'value': 59, 'colour': '#48D1CC'}, {'name': 'ODD BALL', 'value': 4, 'colour': '#808080'}, {'name': 'GENERAL GRIEVOUS', 'value': 12, 'colour': '#808080'}, {'name': 'EMPEROR', 'value': 24, 'colour': '#191970'}, {'name': 'COUNT DOOKU', 'value': 2, 'colour': '#808080'}, {'name': 'BAIL ORGANA', 'value': 20, 'colour': '#808080'}, {'name': 'C-3PO', 'value': 15, 'colour': '#FFD700'}, {'name': 'PADME', 'value': 23, 'colour': '#DDA0DD'}, {'name': 'YODA', 'value': 23, 'colour': '#9ACD32'}, {'name': 'FANG ZAR', 'value': 3, 'colour': '#808080'}, {'name': 'MON MOTHMA', 'value': 3, 'colour': '#808080'}, {'name': 'GIDDEAN DANU', 'value': 2, 'colour': '#808080'}, {'name': 'MACE WINDU', 'value': 7, 'colour': '#808080'}, {'name': 'CAPTAIN TYPHO', 'value': 3, 'colour': '#808080'}, {'name': 'CLONE COMMANDER GREE', 'value': 4, 'colour': '#808080'}, {'name': 'CLONE COMMANDER CODY', 'value': 4, 'colour': '#808080'}, {'name': 'JAR JAR', 'value': 2, 'colour': '#9a9a00'}, {'name': 'TION MEDON', 'value': 3, 'colour': '#808080'}, {'name': 'NUTE GUNRAY', 'value': 5, 'colour': '#808080'}, {'name': 'PLO KOON', 'value': 2, 'colour': '#808080'}, {'name': 'CAPTAIN ANTILLES', 'value': 3, 'colour': '#808080'}, {'name': 'DARTH VADER', 'value': 4, 'colour': '#000000'}, {'name': 'QUI-GON', 'value': 2, 'colour': '#4f4fb1'}], 'links': [{'source': 0, 'target': 1, 'value': 28}, {'source': 1, 'target': 2, 'value': 2}, {'source': 0, 'target': 2, 'value': 2}, {'source': 4, 'target': 1, 'value': 4}, {'source': 5, 'target': 1, 'value': 1}, {'source': 0, 'target': 4, 'value': 14}, {'source': 0, 'target': 5, 'value': 1}, {'source': 5, 'target': 4, 'value': 1}, {'source': 3, 'target': 1, 'value': 2}, {'source': 0, 'target': 3, 'value': 1}, {'source': 0, 'target': 6, 'value': 2}, {'source': 0, 'target': 7, 'value': 4}, {'source': 6, 'target': 1, 'value': 7}, {'source': 7, 'target': 1, 'value': 3}, {'source': 6, 'target': 4, 'value': 3}, {'source': 7, 'target': 4, 'value': 2}, {'source': 6, 'target': 7, 'value': 3}, {'source': 6, 'target': 8, 'value': 5}, {'source': 0, 'target': 8, 'value': 9}, {'source': 0, 'target': 9, 'value': 5}, {'source': 6, 'target': 10, 'value': 2}, {'source': 6, 'target': 11, 'value': 2}, {'source': 6, 'target': 12, 'value': 1}, {'source': 10, 'target': 8, 'value': 2}, {'source': 10, 'target': 11, 'value': 2}, {'source': 10, 'target': 12, 'value': 1}, {'source': 11, 'target': 8, 'value': 2}, {'source': 12, 'target': 8, 'value': 1}, {'source': 12, 'target': 11, 'value': 1}, {'source': 0, 'target': 13, 'value': 5}, {'source': 13, 'target': 9, 'value': 4}, {'source': 13, 'target': 1, 'value': 3}, {'source': 1, 'target': 9, 'value': 11}, {'source': 14, 'target': 8, 'value': 2}, {'source': 7, 'target': 8, 'value': 5}, {'source': 7, 'target': 14, 'value': 2}, {'source': 0, 'target': 14, 'value': 1}, {'source': 15, 'target': 9, 'value': 1}, {'source': 1, 'target': 8, 'value': 6}, {'source': 16, 'target': 1, 'value': 2}, {'source': 0, 'target': 17, 'value': 1}, {'source': 4, 'target': 17, 'value': 1}, {'source': 1, 'target': 18, 'value': 1}, {'source': 3, 'target': 19, 'value': 1}, {'source': 4, 'target': 8, 'value': 4}, {'source': 0, 'target': 16, 'value': 1}, {'source': 16, 'target': 13, 'value': 1}, {'source': 16, 'target': 9, 'value': 1}, {'source': 4, 'target': 13, 'value': 1}, {'source': 6, 'target': 21, 'value': 2}, {'source': 6, 'target': 9, 'value': 6}, {'source': 4, 'target': 19, 'value': 1}, {'source': 23, 'target': 9, 'value': 1}, {'source': 6, 'target': 23, 'value': 1}, {'source': 7, 'target': 9, 'value': 1}, {'source': 22, 'target': 4, 'value': 1}, {'source': 7, 'target': 21, 'value': 1}]}\n"
     ]
    }
   ],
   "source": [
    "with open(data_path, 'r', encoding='utf8') as f:\n",
    "    data = json.load(f)\n",
    "print(data)"
   ]
  },
  {
   "cell_type": "code",
   "execution_count": null,
   "metadata": {
    "colab": {
     "base_uri": "https://localhost:8080/"
    },
    "id": "PvOj4iajiULP",
    "outputId": "245287c0-07e1-4df8-8b42-4c308fc1c753"
   },
   "outputs": [
    {
     "name": "stdout",
     "output_type": "stream",
     "text": [
      "nodes 24\n",
      "links 57\n"
     ]
    }
   ],
   "source": [
    "for key, value in data.items():\n",
    "    print(key, len(value))"
   ]
  },
  {
   "cell_type": "code",
   "execution_count": null,
   "metadata": {
    "colab": {
     "base_uri": "https://localhost:8080/"
    },
    "id": "_iV3-YZjiULQ",
    "outputId": "90abb218-61f7-42d8-9d55-afc3163bbbf5"
   },
   "outputs": [
    {
     "name": "stdout",
     "output_type": "stream",
     "text": [
      "[{'name': 'ANAKIN', 'value': 53, 'colour': '#ce3b59'}, {'name': 'OBI-WAN', 'value': 59, 'colour': '#48D1CC'}]\n",
      "{'source': 0, 'target': 1, 'value': 28}\n"
     ]
    }
   ],
   "source": [
    "print(data['nodes'][:2])\n",
    "print(data['links'][0])"
   ]
  },
  {
   "cell_type": "code",
   "execution_count": null,
   "metadata": {
    "id": "Gz0kQdDDiULR"
   },
   "outputs": [],
   "source": [
    "star_wars_graph = nx.Graph()"
   ]
  },
  {
   "cell_type": "code",
   "execution_count": null,
   "metadata": {
    "id": "nFCQs3sBiULS"
   },
   "outputs": [],
   "source": [
    "for link in data['links']:\n",
    "    star_wars_graph.add_edge(data['nodes'][link['source']]['name'], data['nodes'][link['target']]['name'],\n",
    "                              weight=link['value'])"
   ]
  },
  {
   "cell_type": "code",
   "execution_count": null,
   "metadata": {
    "colab": {
     "base_uri": "https://localhost:8080/"
    },
    "id": "knG1mSTGiULS",
    "outputId": "85c38e57-e8c9-4fc2-a634-80308d3761f8"
   },
   "outputs": [
    {
     "data": {
      "text/plain": [
       "['ANAKIN',\n",
       " 'OBI-WAN',\n",
       " 'ODD BALL',\n",
       " 'EMPEROR',\n",
       " 'COUNT DOOKU',\n",
       " 'GENERAL GRIEVOUS',\n",
       " 'BAIL ORGANA',\n",
       " 'C-3PO',\n",
       " 'PADME',\n",
       " 'YODA',\n",
       " 'FANG ZAR',\n",
       " 'MON MOTHMA',\n",
       " 'GIDDEAN DANU',\n",
       " 'MACE WINDU',\n",
       " 'CAPTAIN TYPHO',\n",
       " 'CLONE COMMANDER GREE',\n",
       " 'CLONE COMMANDER CODY',\n",
       " 'JAR JAR',\n",
       " 'TION MEDON',\n",
       " 'NUTE GUNRAY',\n",
       " 'CAPTAIN ANTILLES',\n",
       " 'QUI-GON',\n",
       " 'DARTH VADER']"
      ]
     },
     "execution_count": 9,
     "metadata": {},
     "output_type": "execute_result"
    }
   ],
   "source": [
    "list(star_wars_graph.nodes)"
   ]
  },
  {
   "cell_type": "markdown",
   "metadata": {
    "id": "cEjc_pkdkDJG"
   },
   "source": [
    "A vertex u is a neighbor of (or equivalently adjacent to) a vertex v in a graph G = (V,E) if there is an edge {u, v} ∈ E."
   ]
  },
  {
   "cell_type": "code",
   "execution_count": null,
   "metadata": {
    "colab": {
     "base_uri": "https://localhost:8080/"
    },
    "id": "wC3d9PCjiULT",
    "outputId": "4ee789c1-c515-452d-9fc3-6a962bee45ed"
   },
   "outputs": [
    {
     "data": {
      "text/plain": [
       "['BAIL ORGANA',\n",
       " 'ANAKIN',\n",
       " 'FANG ZAR',\n",
       " 'MON MOTHMA',\n",
       " 'GIDDEAN DANU',\n",
       " 'CAPTAIN TYPHO',\n",
       " 'C-3PO',\n",
       " 'OBI-WAN',\n",
       " 'EMPEROR']"
      ]
     },
     "execution_count": 10,
     "metadata": {},
     "output_type": "execute_result"
    }
   ],
   "source": [
    "list(star_wars_graph.neighbors('PADME'))"
   ]
  },
  {
   "cell_type": "code",
   "execution_count": null,
   "metadata": {
    "colab": {
     "base_uri": "https://localhost:8080/"
    },
    "id": "GODyZSKRiULT",
    "outputId": "26f27b30-d00e-4ebf-ec3e-caf0b8c0d055"
   },
   "outputs": [
    {
     "data": {
      "text/plain": [
       "['EMPEROR']"
      ]
     },
     "execution_count": 11,
     "metadata": {},
     "output_type": "execute_result"
    }
   ],
   "source": [
    "list(star_wars_graph.neighbors('DARTH VADER'))"
   ]
  },
  {
   "cell_type": "code",
   "execution_count": null,
   "metadata": {
    "colab": {
     "base_uri": "https://localhost:8080/"
    },
    "id": "7IvmAun3iULU",
    "outputId": "f1b2954a-971c-4586-a966-8851b0375998"
   },
   "outputs": [
    {
     "name": "stdout",
     "output_type": "stream",
     "text": [
      "True\n"
     ]
    }
   ],
   "source": [
    "print(len(list(star_wars_graph.neighbors('DARTH VADER'))) == star_wars_graph.degree('DARTH VADER'))"
   ]
  },
  {
   "cell_type": "code",
   "execution_count": null,
   "metadata": {
    "colab": {
     "base_uri": "https://localhost:8080/"
    },
    "id": "rU-0lR8AiULV",
    "outputId": "1fe1bc52-5d4f-49bc-e442-db2cf73f0260"
   },
   "outputs": [
    {
     "name": "stdout",
     "output_type": "stream",
     "text": [
      "('CLONE COMMANDER GREE', 1)\n",
      "('TION MEDON', 1)\n",
      "('DARTH VADER', 1)\n",
      "('ODD BALL', 2)\n",
      "('JAR JAR', 2)\n",
      "('NUTE GUNRAY', 2)\n",
      "('CAPTAIN ANTILLES', 2)\n",
      "('QUI-GON', 2)\n",
      "('COUNT DOOKU', 3)\n",
      "('GENERAL GRIEVOUS', 3)\n",
      "('CAPTAIN TYPHO', 3)\n",
      "('FANG ZAR', 4)\n",
      "('MON MOTHMA', 4)\n",
      "('GIDDEAN DANU', 4)\n",
      "('CLONE COMMANDER CODY', 4)\n",
      "('MACE WINDU', 5)\n",
      "('C-3PO', 8)\n",
      "('YODA', 8)\n",
      "('PADME', 9)\n",
      "('EMPEROR', 10)\n",
      "('BAIL ORGANA', 11)\n",
      "('OBI-WAN', 12)\n",
      "('ANAKIN', 13)\n"
     ]
    }
   ],
   "source": [
    "degrees = [(name, degree) for name, degree in star_wars_graph.degree()]\n",
    "for node in sorted(degrees, key=lambda x: x[1]):\n",
    "    print(node)"
   ]
  },
  {
   "cell_type": "code",
   "execution_count": null,
   "metadata": {
    "colab": {
     "base_uri": "https://localhost:8080/"
    },
    "id": "zliOC3LgiULV",
    "outputId": "ec66175b-0d67-45e5-968b-5d3a6bc4d911"
   },
   "outputs": [
    {
     "data": {
      "text/plain": [
       "23"
      ]
     },
     "execution_count": 14,
     "metadata": {},
     "output_type": "execute_result"
    }
   ],
   "source": [
    "len(list(nx.connected_components(star_wars_graph))[0])"
   ]
  },
  {
   "cell_type": "code",
   "execution_count": null,
   "metadata": {
    "colab": {
     "base_uri": "https://localhost:8080/"
    },
    "id": "_29HILmokgfe",
    "outputId": "294a0122-ace6-41cd-cf25-05b4f3db81fa"
   },
   "outputs": [
    {
     "name": "stdout",
     "output_type": "stream",
     "text": [
      "PLO KOON\n"
     ]
    }
   ],
   "source": [
    "for node in {node_['name'] for node_ in data['nodes']}:\n",
    "    if node not in star_wars_graph.nodes:\n",
    "        print(node)\n",
    "        break"
   ]
  },
  {
   "cell_type": "code",
   "execution_count": null,
   "metadata": {
    "colab": {
     "base_uri": "https://localhost:8080/"
    },
    "id": "AG5lB7IiiULW",
    "outputId": "61764843-d2a8-4581-ba22-1dd50bf528db"
   },
   "outputs": [
    {
     "data": {
      "text/plain": [
       "{'ANAKIN': 0.3333333333333333,\n",
       " 'OBI-WAN': 0.3484848484848485,\n",
       " 'ODD BALL': 1.0,\n",
       " 'EMPEROR': 0.3333333333333333,\n",
       " 'COUNT DOOKU': 1.0,\n",
       " 'GENERAL GRIEVOUS': 0.3333333333333333,\n",
       " 'BAIL ORGANA': 0.38181818181818183,\n",
       " 'C-3PO': 0.5714285714285714,\n",
       " 'PADME': 0.5,\n",
       " 'YODA': 0.42857142857142855,\n",
       " 'FANG ZAR': 1.0,\n",
       " 'MON MOTHMA': 1.0,\n",
       " 'GIDDEAN DANU': 1.0,\n",
       " 'MACE WINDU': 0.8,\n",
       " 'CAPTAIN TYPHO': 1.0,\n",
       " 'CLONE COMMANDER GREE': 0,\n",
       " 'CLONE COMMANDER CODY': 1.0,\n",
       " 'JAR JAR': 1.0,\n",
       " 'TION MEDON': 0,\n",
       " 'NUTE GUNRAY': 0,\n",
       " 'CAPTAIN ANTILLES': 1.0,\n",
       " 'QUI-GON': 1.0,\n",
       " 'DARTH VADER': 0}"
      ]
     },
     "execution_count": 16,
     "metadata": {},
     "output_type": "execute_result"
    }
   ],
   "source": [
    "nx.clustering(star_wars_graph)"
   ]
  },
  {
   "cell_type": "code",
   "execution_count": null,
   "metadata": {
    "colab": {
     "base_uri": "https://localhost:8080/",
     "height": 319
    },
    "id": "rdU4-w_diULX",
    "outputId": "819146c9-993a-4b00-ae30-a4a08f8999a3"
   },
   "outputs": [
    {
     "data": {
      "image/png": "[encoded data removed]",
      "text/plain": [
       "<Figure size 432x288 with 1 Axes>"
      ]
     },
     "metadata": {},
     "output_type": "display_data"
    }
   ],
   "source": [
    "nx.draw(star_wars_graph, with_labels=True, font_weight='bold')"
   ]
  },
  {
   "cell_type": "code",
   "execution_count": null,
   "metadata": {
    "colab": {
     "base_uri": "https://localhost:8080/"
    },
    "id": "UkjvlY2ziULX",
    "outputId": "9ee46d72-1a63-44c2-b761-8c3e018dcc98"
   },
   "outputs": [
    {
     "data": {
      "text/plain": [
       "['ANAKIN', 'PADME']"
      ]
     },
     "execution_count": 18,
     "metadata": {},
     "output_type": "execute_result"
    }
   ],
   "source": [
    "nx.shortest_path(star_wars_graph, 'ANAKIN', \"PADME\")"
   ]
  },
  {
   "cell_type": "code",
   "execution_count": null,
   "metadata": {
    "colab": {
     "base_uri": "https://localhost:8080/"
    },
    "id": "RGw-0wCciULX",
    "outputId": "ab860309-a6e1-4543-d2e1-881d23cc8987"
   },
   "outputs": [
    {
     "data": {
      "text/plain": [
       "['GIDDEAN DANU', 'BAIL ORGANA', 'OBI-WAN', 'TION MEDON']"
      ]
     },
     "execution_count": 19,
     "metadata": {},
     "output_type": "execute_result"
    }
   ],
   "source": [
    "nx.shortest_path(star_wars_graph, 'GIDDEAN DANU', 'TION MEDON')"
   ]
  },
  {
   "cell_type": "code",
   "execution_count": null,
   "metadata": {
    "colab": {
     "base_uri": "https://localhost:8080/"
    },
    "id": "CE7fNmAyiULY",
    "outputId": "51681d82-2e83-4eca-e56c-6ff02cd2be59"
   },
   "outputs": [
    {
     "data": {
      "text/plain": [
       "{'ANAKIN', 'BAIL ORGANA', 'C-3PO', 'EMPEROR', 'OBI-WAN', 'PADME'}"
      ]
     },
     "execution_count": 20,
     "metadata": {},
     "output_type": "execute_result"
    }
   ],
   "source": [
    "nx.approximation.max_clique(star_wars_graph) \n",
    "# A clique in an undirected graph G = (V, E) is a subset of the vertex set C subseteq V such that for every two \n",
    "# vertices in C there exists an edge connecting the two.\n",
    "# A maximum clique is a clique of the largest possible size in a given graph. "
   ]
  },
  {
   "cell_type": "code",
   "execution_count": null,
   "metadata": {
    "colab": {
     "base_uri": "https://localhost:8080/"
    },
    "id": "4G-n7nuQiULZ",
    "outputId": "842e27b2-e1a8-4519-ec7c-6bbf8c7a6901"
   },
   "outputs": [
    {
     "name": "stdout",
     "output_type": "stream",
     "text": [
      "['NUTE GUNRAY', 'EMPEROR']\n",
      "['NUTE GUNRAY', 'GENERAL GRIEVOUS']\n",
      "['CAPTAIN ANTILLES', 'BAIL ORGANA', 'C-3PO']\n",
      "['GIDDEAN DANU', 'BAIL ORGANA', 'FANG ZAR', 'MON MOTHMA', 'PADME']\n",
      "['TION MEDON', 'OBI-WAN']\n",
      "['CLONE COMMANDER GREE', 'YODA']\n",
      "['QUI-GON', 'BAIL ORGANA', 'YODA']\n",
      "['ANAKIN', 'CAPTAIN TYPHO', 'C-3PO', 'PADME']\n",
      "['ANAKIN', 'OBI-WAN', 'YODA', 'MACE WINDU', 'CLONE COMMANDER CODY']\n",
      "['ANAKIN', 'OBI-WAN', 'YODA', 'C-3PO', 'BAIL ORGANA']\n",
      "['ANAKIN', 'OBI-WAN', 'GENERAL GRIEVOUS']\n",
      "['ANAKIN', 'OBI-WAN', 'EMPEROR', 'MACE WINDU']\n",
      "['ANAKIN', 'OBI-WAN', 'EMPEROR', 'C-3PO', 'BAIL ORGANA', 'PADME']\n",
      "['ANAKIN', 'OBI-WAN', 'EMPEROR', 'COUNT DOOKU']\n",
      "['ANAKIN', 'OBI-WAN', 'ODD BALL']\n",
      "['ANAKIN', 'JAR JAR', 'EMPEROR']\n",
      "['DARTH VADER', 'EMPEROR']\n"
     ]
    }
   ],
   "source": [
    "for clique in nx.find_cliques(star_wars_graph):\n",
    "    print(clique)\n"
   ]
  },
  {
   "cell_type": "code",
   "execution_count": null,
   "metadata": {
    "colab": {
     "base_uri": "https://localhost:8080/"
    },
    "id": "-pNPyYBdiULa",
    "outputId": "a6c97725-c99a-4c50-ab39-5ffe4173ef54"
   },
   "outputs": [
    {
     "name": "stdout",
     "output_type": "stream",
     "text": [
      "('OBI-WAN', 'TION MEDON')\n",
      "('EMPEROR', 'DARTH VADER')\n",
      "('YODA', 'CLONE COMMANDER GREE')\n"
     ]
    }
   ],
   "source": [
    "for bridge in nx.bridges(star_wars_graph): #  a bridge is an edge that does not belong to any cycle.\n",
    "    print(bridge)"
   ]
  },
  {
   "cell_type": "markdown",
   "metadata": {
    "id": "2axukZPDmP2M"
   },
   "source": [
    "How important is each node?"
   ]
  },
  {
   "cell_type": "code",
   "execution_count": null,
   "metadata": {
    "colab": {
     "base_uri": "https://localhost:8080/"
    },
    "id": "kQOy2o-_iULa",
    "outputId": "fb3d2184-26aa-4e28-a790-639e8683a028"
   },
   "outputs": [
    {
     "data": {
      "text/plain": [
       "[('ANAKIN', 0.5909090909090909),\n",
       " ('OBI-WAN', 0.5454545454545454),\n",
       " ('BAIL ORGANA', 0.5),\n",
       " ('EMPEROR', 0.4545454545454546),\n",
       " ('PADME', 0.4090909090909091),\n",
       " ('C-3PO', 0.36363636363636365),\n",
       " ('YODA', 0.36363636363636365),\n",
       " ('MACE WINDU', 0.2272727272727273),\n",
       " ('FANG ZAR', 0.18181818181818182),\n",
       " ('MON MOTHMA', 0.18181818181818182),\n",
       " ('GIDDEAN DANU', 0.18181818181818182),\n",
       " ('CLONE COMMANDER CODY', 0.18181818181818182),\n",
       " ('COUNT DOOKU', 0.13636363636363635),\n",
       " ('GENERAL GRIEVOUS', 0.13636363636363635),\n",
       " ('CAPTAIN TYPHO', 0.13636363636363635),\n",
       " ('ODD BALL', 0.09090909090909091),\n",
       " ('JAR JAR', 0.09090909090909091),\n",
       " ('NUTE GUNRAY', 0.09090909090909091),\n",
       " ('CAPTAIN ANTILLES', 0.09090909090909091),\n",
       " ('QUI-GON', 0.09090909090909091),\n",
       " ('CLONE COMMANDER GREE', 0.045454545454545456),\n",
       " ('TION MEDON', 0.045454545454545456),\n",
       " ('DARTH VADER', 0.045454545454545456)]"
      ]
     },
     "execution_count": 23,
     "metadata": {},
     "output_type": "execute_result"
    }
   ],
   "source": [
    "sorted([(name, dc) for (name, dc) in nx.degree_centrality(star_wars_graph).items()], key=lambda x: x[1], reverse=True)"
   ]
  },
  {
   "cell_type": "code",
   "execution_count": null,
   "metadata": {
    "colab": {
     "base_uri": "https://localhost:8080/"
    },
    "id": "_1tu-TdJiULa",
    "outputId": "07cf49f1-e25d-42df-ab1c-e91a6e0324b8"
   },
   "outputs": [
    {
     "data": {
      "text/plain": [
       "[('ANAKIN', 0.7096774193548387),\n",
       " ('OBI-WAN', 0.6875),\n",
       " ('BAIL ORGANA', 0.6666666666666666),\n",
       " ('EMPEROR', 0.6285714285714286),\n",
       " ('C-3PO', 0.6111111111111112),\n",
       " ('PADME', 0.6111111111111112),\n",
       " ('YODA', 0.5789473684210527),\n",
       " ('MACE WINDU', 0.5116279069767442),\n",
       " ('CAPTAIN TYPHO', 0.4782608695652174),\n",
       " ('CLONE COMMANDER CODY', 0.4782608695652174),\n",
       " ('COUNT DOOKU', 0.46808510638297873),\n",
       " ('GENERAL GRIEVOUS', 0.4583333333333333),\n",
       " ('JAR JAR', 0.4489795918367347),\n",
       " ('ODD BALL', 0.44),\n",
       " ('FANG ZAR', 0.44),\n",
       " ('MON MOTHMA', 0.44),\n",
       " ('GIDDEAN DANU', 0.44),\n",
       " ('QUI-GON', 0.44),\n",
       " ('CAPTAIN ANTILLES', 0.4230769230769231),\n",
       " ('TION MEDON', 0.41509433962264153),\n",
       " ('NUTE GUNRAY', 0.4074074074074074),\n",
       " ('DARTH VADER', 0.39285714285714285),\n",
       " ('CLONE COMMANDER GREE', 0.3728813559322034)]"
      ]
     },
     "execution_count": 24,
     "metadata": {},
     "output_type": "execute_result"
    }
   ],
   "source": [
    "closeness_centrality = nx.closeness_centrality(star_wars_graph)\n",
    "sorted([(name, dc) for (name, dc) in closeness_centrality.items()], key=lambda x: x[1], reverse=True)\n",
    "# the node is the most important, if it is the closest (has the shortest path) to all nodes"
   ]
  },
  {
   "cell_type": "code",
   "execution_count": null,
   "metadata": {
    "colab": {
     "base_uri": "https://localhost:8080/"
    },
    "id": "5TeQQ-MCiULb",
    "outputId": "8d76d1ca-f525-4212-9438-9740bbc55180"
   },
   "outputs": [
    {
     "data": {
      "text/plain": [
       "[('BAIL ORGANA', 0.2206349206349207),\n",
       " ('OBI-WAN', 0.21130694702123273),\n",
       " ('ANAKIN', 0.2101525458668316),\n",
       " ('EMPEROR', 0.2052772624201196),\n",
       " ('YODA', 0.12948876520305094),\n",
       " ('PADME', 0.10433931148216866),\n",
       " ('C-3PO', 0.058018965161822304),\n",
       " ('GENERAL GRIEVOUS', 0.013945578231292518),\n",
       " ('MACE WINDU', 0.008451865594722737),\n",
       " ('NUTE GUNRAY', 0.002886002886002886),\n",
       " ('ODD BALL', 0.0),\n",
       " ('COUNT DOOKU', 0.0),\n",
       " ('FANG ZAR', 0.0),\n",
       " ('MON MOTHMA', 0.0),\n",
       " ('GIDDEAN DANU', 0.0),\n",
       " ('CAPTAIN TYPHO', 0.0),\n",
       " ('CLONE COMMANDER GREE', 0.0),\n",
       " ('CLONE COMMANDER CODY', 0.0),\n",
       " ('JAR JAR', 0.0),\n",
       " ('TION MEDON', 0.0),\n",
       " ('CAPTAIN ANTILLES', 0.0),\n",
       " ('QUI-GON', 0.0),\n",
       " ('DARTH VADER', 0.0)]"
      ]
     },
     "execution_count": 25,
     "metadata": {},
     "output_type": "execute_result"
    }
   ],
   "source": [
    "betweenness_centrality = nx.betweenness_centrality(star_wars_graph)\n",
    "sorted([(name, dc) for (name, dc) in betweenness_centrality.items()], key=lambda x: x[1], reverse=True)\n",
    "# the node is most important if it serves as a bridge from one part of a graph to another.\n",
    "# Betweenness centrality is a way of detecting the amount of influence a node has over the flow of information in a graph.  "
   ]
  },
  {
   "cell_type": "markdown",
   "metadata": {
    "id": "i5QisF3jiULb"
   },
   "source": [
    "https://towardsdatascience.com/tutorial-network-visualization-basics-with-networkx-and-plotly-and-a-little-nlp-57c9bbb55bb9"
   ]
  },
  {
   "cell_type": "code",
   "execution_count": null,
   "metadata": {
    "id": "n9BY-zP8iULb"
   },
   "outputs": [],
   "source": [
    "positions = nx.spring_layout(star_wars_graph)"
   ]
  },
  {
   "cell_type": "code",
   "execution_count": null,
   "metadata": {
    "colab": {
     "base_uri": "https://localhost:8080/"
    },
    "id": "7Qn61x0_iULb",
    "outputId": "233e5878-ec23-453d-efd9-eb7043d27cb0"
   },
   "outputs": [
    {
     "data": {
      "text/plain": [
       "{'ANAKIN': array([-0.03522905,  0.07791426]),\n",
       " 'OBI-WAN': array([0.06981339, 0.08898758]),\n",
       " 'ODD BALL': array([-0.04984111,  0.48421252]),\n",
       " 'EMPEROR': array([-0.18259998,  0.12511278]),\n",
       " 'COUNT DOOKU': array([-0.31743039,  0.50149731]),\n",
       " 'GENERAL GRIEVOUS': array([0.23638775, 0.49329336]),\n",
       " 'BAIL ORGANA': array([ 0.00264772, -0.23862992]),\n",
       " 'C-3PO': array([-0.21167677, -0.1003521 ]),\n",
       " 'PADME': array([-0.09166801, -0.18296782]),\n",
       " 'YODA': array([ 0.23454053, -0.08290343]),\n",
       " 'FANG ZAR': array([-0.14445014, -0.60396225]),\n",
       " 'MON MOTHMA': array([ 0.06336736, -0.60962386]),\n",
       " 'GIDDEAN DANU': array([-0.0745279, -0.8242113]),\n",
       " 'MACE WINDU': array([0.23170795, 0.13662988]),\n",
       " 'CAPTAIN TYPHO': array([-0.39655734, -0.30779115]),\n",
       " 'CLONE COMMANDER GREE': array([ 1.        , -0.23632341]),\n",
       " 'CLONE COMMANDER CODY': array([0.48737632, 0.11834941]),\n",
       " 'JAR JAR': array([-0.61597871,  0.41238076]),\n",
       " 'TION MEDON': array([0.43202106, 0.89386565]),\n",
       " 'NUTE GUNRAY': array([0.36957241, 0.6827156 ]),\n",
       " 'CAPTAIN ANTILLES': array([-0.56419544, -0.36148987]),\n",
       " 'QUI-GON': array([ 0.54374527, -0.54953262]),\n",
       " 'DARTH VADER': array([-0.98702492,  0.08282862])}"
      ]
     },
     "execution_count": 27,
     "metadata": {},
     "output_type": "execute_result"
    }
   ],
   "source": [
    "positions"
   ]
  },
  {
   "cell_type": "code",
   "execution_count": null,
   "metadata": {
    "id": "wfdPz2i5iULc"
   },
   "outputs": [],
   "source": [
    "def make_edge(x, y, text, width):\n",
    "    return  go.Scatter(x         = x,\n",
    "                       y         = y,\n",
    "                       line      = dict(width = width,\n",
    "                                   color = 'cornflowerblue'),\n",
    "                       hoverinfo = 'text',\n",
    "                       text      = ([text]),\n",
    "                       mode      = 'lines')"
   ]
  },
  {
   "cell_type": "code",
   "execution_count": null,
   "metadata": {
    "id": "ZEha-gx_iULc"
   },
   "outputs": [],
   "source": [
    "def draw_plotly_graph(graph, centrality):\n",
    "    print('making spring layout')\n",
    "    positions = nx.spring_layout(graph)\n",
    "    print('made spring layout')\n",
    "    # For each edge, make an edge_trace, append to list\n",
    "    edge_trace = []\n",
    "    for edge in tqdm(graph.edges()):\n",
    "        char_1 = edge[0]\n",
    "        char_2 = edge[1]\n",
    "        x0, y0 = positions[char_1]\n",
    "        x1, y1 = positions[char_2]\n",
    "        text   = char_1 + '--' + char_2 + ': ' + str(graph.edges()[edge]['weight'])\n",
    "\n",
    "        trace  = make_edge([x0, x1, None], [y0, y1, None], text, \n",
    "                           width = 0.3*graph.edges()[edge]['weight']**1.75)\n",
    "        edge_trace.append(trace)\n",
    "        \n",
    "    # Customize layout\n",
    "    layout = go.Layout(\n",
    "        paper_bgcolor='rgba(0,0,0,0)', # transparent background\n",
    "        plot_bgcolor='rgba(0,0,0,0)', # transparent 2nd background\n",
    "        xaxis =  {'showgrid': False, 'zeroline': False}, # no gridlines\n",
    "        yaxis = {'showgrid': False, 'zeroline': False}, # no gridlines\n",
    "    )# Create figure\n",
    "    fig = go.Figure(layout = layout)# Add all edge traces\n",
    "    for trace in edge_trace:\n",
    "        fig.add_trace(trace)\n",
    "    for node in graph.nodes():\n",
    "        # Make a node trace\n",
    "        node_trace = go.Scatter(x         = [],\n",
    "                                y         = [],\n",
    "                                text      = [],\n",
    "                                textposition = \"top center\",\n",
    "                                textfont_size = 10,\n",
    "                                mode      = 'markers+text',\n",
    "                                #hoverinfo = 'none',\n",
    "                                marker    = dict(color = [],\n",
    "                                                size  = [],\n",
    "                                                line  = None,\n",
    "                                                ))\n",
    "        # For each node, get the position and size and add to the node_trace\n",
    "        x, y = positions[node]\n",
    "        node_trace['x'] += tuple([x])\n",
    "        node_trace['y'] += tuple([y])\n",
    "        node_trace['marker']['color'] += tuple(['red'])\n",
    "        size = abs(int(centrality[node] * 100))\n",
    "        if size == 0:\n",
    "            size = 1\n",
    "        node_trace['marker']['size'] = size\n",
    "        node_trace['text'] += tuple(['<b>' + node + '</b>'])\n",
    "        fig.add_trace(node_trace)# Remove legend\n",
    "    \n",
    "    # Add node trace\n",
    "    \n",
    "    fig.update_layout(showlegend = False)# Remove tick labels\n",
    "    fig.update_xaxes(showticklabels = False)\n",
    "    fig.update_yaxes(showticklabels = False)# Show figure\n",
    "    fig.show()"
   ]
  },
  {
   "cell_type": "code",
   "execution_count": null,
   "metadata": {
    "colab": {
     "base_uri": "https://localhost:8080/",
     "height": 609,
     "referenced_widgets": [
      "a2105da14a364519ba16be7b9390d3f1",
      "7477b17c0d764f9dbb0969834c2d986b",
      "10ef518e212744b582b5d6f670f08f8a",
      "cdb90cefb0d14e25969dd2979346d8b1",
      "b2a386e2b9ed4f47b2cf3de1d9a668ba",
      "81ccea8b63484bed8559d1a31148050b",
      "fa8f9278a1564cd1803b53bbee6ab28b",
      "820a5fe143134c51b695048d6023122d",
      "4c09b01b452a49bd89d00a6e168a5246",
      "e53eddf86acd4c06b6b7cdd673cd2416",
      "a21ed9abcf3b474392b320a2750dde34"
     ]
    },
    "id": "o0YVTuWVtdVk",
    "outputId": "fdc69c8e-e056-469b-8303-859205f91113"
   },
   "outputs": [
    {
     "name": "stdout",
     "output_type": "stream",
     "text": [
      "making spring layout\n",
      "made spring layout\n"
     ]
    },
    {
     "data": {
      "application/vnd.jupyter.widget-view+json": {
       "model_id": "a2105da14a364519ba16be7b9390d3f1",
       "version_major": 2,
       "version_minor": 0
      },
      "text/plain": [
       "  0%|          | 0/57 [00:00<?, ?it/s]"
      ]
     },
     "metadata": {},
     "output_type": "display_data"
    },
    {
     "data": {
      "text/html": [
       "<html>\n",
       "<head><meta charset=\"utf-8\" /></head>\n",
       "<body>\n",
       "    <div>            <script src=\"https://cdnjs.cloudflare.com/ajax/libs/mathjax/2.7.5/MathJax.js?config=TeX-AMS-MML_SVG\"></script><script type=\"text/javascript\">if (window.MathJax) {MathJax.Hub.Config({SVG: {font: \"STIX-Web\"}});}</script>                <script type=\"text/javascript\">window.PlotlyConfig = {MathJaxConfig: 'local'};</script>\n",
       "        <script src=\"https://cdn.plot.ly/plotly-2.8.3.min.js\"></script>                <div id=\"5681a20d-8ed6-432c-9ad8-1d735fc95ce9\" class=\"plotly-graph-div\" style=\"height:525px; width:100%;\"></div>            <script type=\"text/javascript\">                                    window.PLOTLYENV=window.PLOTLYENV || {};                                    if (document.getElementById(\"5681a20d-8ed6-432c-9ad8-1d735fc95ce9\")) {                    Plotly.newPlot(                        \"5681a20d-8ed6-432c-9ad8-1d735fc95ce9\",                        [{\"hoverinfo\":\"text\",\"line\":{\"color\":\"cornflowerblue\",\"width\":102.24634908146199},\"mode\":\"lines\",\"text\":[\"ANAKIN--OBI-WAN: 28\"],\"x\":[0.04714416735536232,0.0005420391860314659,null],\"y\":[0.05351827329873022,0.14120176284727876,null],\"type\":\"scatter\"},{\"hoverinfo\":\"text\",\"line\":{\"color\":\"cornflowerblue\",\"width\":1.0090756983044573},\"mode\":\"lines\",\"text\":[\"ANAKIN--ODD BALL: 2\"],\"x\":[0.04714416735536232,-0.12942095170465037,null],\"y\":[0.05351827329873022,0.5293845659186582,null],\"type\":\"scatter\"},{\"hoverinfo\":\"text\",\"line\":{\"color\":\"cornflowerblue\",\"width\":30.398021452681625},\"mode\":\"lines\",\"text\":[\"ANAKIN--EMPEROR: 14\"],\"x\":[0.04714416735536232,0.20745281092319237,null],\"y\":[0.05351827329873022,-0.06916588941427176,null],\"type\":\"scatter\"},{\"hoverinfo\":\"text\",\"line\":{\"color\":\"cornflowerblue\",\"width\":0.3},\"mode\":\"lines\",\"text\":[\"ANAKIN--COUNT DOOKU: 1\"],\"x\":[0.04714416735536232,0.4256431861044578,null],\"y\":[0.05351827329873022,0.45736308279345883,null],\"type\":\"scatter\"},{\"hoverinfo\":\"text\",\"line\":{\"color\":\"cornflowerblue\",\"width\":0.3},\"mode\":\"lines\",\"text\":[\"ANAKIN--GENERAL GRIEVOUS: 1\"],\"x\":[0.04714416735536232,0.5523028152371541,null],\"y\":[0.05351827329873022,0.17974142751468009,null],\"type\":\"scatter\"},{\"hoverinfo\":\"text\",\"line\":{\"color\":\"cornflowerblue\",\"width\":1.0090756983044573},\"mode\":\"lines\",\"text\":[\"ANAKIN--BAIL ORGANA: 2\"],\"x\":[0.04714416735536232,-0.11047229560028844,null],\"y\":[0.05351827329873022,-0.1437611016238936,null],\"type\":\"scatter\"},{\"hoverinfo\":\"text\",\"line\":{\"color\":\"cornflowerblue\",\"width\":3.394112549695428},\"mode\":\"lines\",\"text\":[\"ANAKIN--C-3PO: 4\"],\"x\":[0.04714416735536232,-0.18384986517254173,null],\"y\":[0.05351827329873022,-0.06739761503593067,null],\"type\":\"scatter\"},{\"hoverinfo\":\"text\",\"line\":{\"color\":\"cornflowerblue\",\"width\":14.029611541307906},\"mode\":\"lines\",\"text\":[\"ANAKIN--PADME: 9\"],\"x\":[0.04714416735536232,0.03515542158507528,null],\"y\":[0.05351827329873022,-0.1894523775951355,null],\"type\":\"scatter\"},{\"hoverinfo\":\"text\",\"line\":{\"color\":\"cornflowerblue\",\"width\":5.015552287323165},\"mode\":\"lines\",\"text\":[\"ANAKIN--YODA: 5\"],\"x\":[0.04714416735536232,-0.17228258684979778,null],\"y\":[0.05351827329873022,0.22007939550888192,null],\"type\":\"scatter\"},{\"hoverinfo\":\"text\",\"line\":{\"color\":\"cornflowerblue\",\"width\":5.015552287323165},\"mode\":\"lines\",\"text\":[\"ANAKIN--MACE WINDU: 5\"],\"x\":[0.04714416735536232,0.06204795897498513,null],\"y\":[0.05351827329873022,0.3160798267259304,null],\"type\":\"scatter\"},{\"hoverinfo\":\"text\",\"line\":{\"color\":\"cornflowerblue\",\"width\":0.3},\"mode\":\"lines\",\"text\":[\"ANAKIN--CAPTAIN TYPHO: 1\"],\"x\":[0.04714416735536232,-0.2689326381087303,null],\"y\":[0.05351827329873022,-0.3574085184116365,null],\"type\":\"scatter\"},{\"hoverinfo\":\"text\",\"line\":{\"color\":\"cornflowerblue\",\"width\":0.3},\"mode\":\"lines\",\"text\":[\"ANAKIN--JAR JAR: 1\"],\"x\":[0.04714416735536232,-0.25324652259186226,null],\"y\":[0.05351827329873022,-0.5711595498781373,null],\"type\":\"scatter\"},{\"hoverinfo\":\"text\",\"line\":{\"color\":\"cornflowerblue\",\"width\":0.3},\"mode\":\"lines\",\"text\":[\"ANAKIN--CLONE COMMANDER CODY: 1\"],\"x\":[0.04714416735536232,0.15771970457128084,null],\"y\":[0.05351827329873022,0.5263156499647962,null],\"type\":\"scatter\"},{\"hoverinfo\":\"text\",\"line\":{\"color\":\"cornflowerblue\",\"width\":1.0090756983044573},\"mode\":\"lines\",\"text\":[\"OBI-WAN--ODD BALL: 2\"],\"x\":[0.0005420391860314659,-0.12942095170465037,null],\"y\":[0.14120176284727876,0.5293845659186582,null],\"type\":\"scatter\"},{\"hoverinfo\":\"text\",\"line\":{\"color\":\"cornflowerblue\",\"width\":3.394112549695428},\"mode\":\"lines\",\"text\":[\"OBI-WAN--EMPEROR: 4\"],\"x\":[0.0005420391860314659,0.20745281092319237,null],\"y\":[0.14120176284727876,-0.06916588941427176,null],\"type\":\"scatter\"},{\"hoverinfo\":\"text\",\"line\":{\"color\":\"cornflowerblue\",\"width\":0.3},\"mode\":\"lines\",\"text\":[\"OBI-WAN--COUNT DOOKU: 1\"],\"x\":[0.0005420391860314659,0.4256431861044578,null],\"y\":[0.14120176284727876,0.45736308279345883,null],\"type\":\"scatter\"},{\"hoverinfo\":\"text\",\"line\":{\"color\":\"cornflowerblue\",\"width\":1.0090756983044573},\"mode\":\"lines\",\"text\":[\"OBI-WAN--GENERAL GRIEVOUS: 2\"],\"x\":[0.0005420391860314659,0.5523028152371541,null],\"y\":[0.14120176284727876,0.17974142751468009,null],\"type\":\"scatter\"},{\"hoverinfo\":\"text\",\"line\":{\"color\":\"cornflowerblue\",\"width\":9.037385848383586},\"mode\":\"lines\",\"text\":[\"OBI-WAN--BAIL ORGANA: 7\"],\"x\":[0.0005420391860314659,-0.11047229560028844,null],\"y\":[0.14120176284727876,-0.1437611016238936,null],\"type\":\"scatter\"},{\"hoverinfo\":\"text\",\"line\":{\"color\":\"cornflowerblue\",\"width\":2.0515563512592996},\"mode\":\"lines\",\"text\":[\"OBI-WAN--C-3PO: 3\"],\"x\":[0.0005420391860314659,-0.18384986517254173,null],\"y\":[0.14120176284727876,-0.06739761503593067,null],\"type\":\"scatter\"},{\"hoverinfo\":\"text\",\"line\":{\"color\":\"cornflowerblue\",\"width\":2.0515563512592996},\"mode\":\"lines\",\"text\":[\"OBI-WAN--MACE WINDU: 3\"],\"x\":[0.0005420391860314659,0.06204795897498513,null],\"y\":[0.14120176284727876,0.3160798267259304,null],\"type\":\"scatter\"},{\"hoverinfo\":\"text\",\"line\":{\"color\":\"cornflowerblue\",\"width\":19.93234766997288},\"mode\":\"lines\",\"text\":[\"OBI-WAN--YODA: 11\"],\"x\":[0.0005420391860314659,-0.17228258684979778,null],\"y\":[0.14120176284727876,0.22007939550888192,null],\"type\":\"scatter\"},{\"hoverinfo\":\"text\",\"line\":{\"color\":\"cornflowerblue\",\"width\":6.900585525859743},\"mode\":\"lines\",\"text\":[\"OBI-WAN--PADME: 6\"],\"x\":[0.0005420391860314659,0.03515542158507528,null],\"y\":[0.14120176284727876,-0.1894523775951355,null],\"type\":\"scatter\"},{\"hoverinfo\":\"text\",\"line\":{\"color\":\"cornflowerblue\",\"width\":1.0090756983044573},\"mode\":\"lines\",\"text\":[\"OBI-WAN--CLONE COMMANDER CODY: 2\"],\"x\":[0.0005420391860314659,0.15771970457128084,null],\"y\":[0.14120176284727876,0.5263156499647962,null],\"type\":\"scatter\"},{\"hoverinfo\":\"text\",\"line\":{\"color\":\"cornflowerblue\",\"width\":0.3},\"mode\":\"lines\",\"text\":[\"OBI-WAN--TION MEDON: 1\"],\"x\":[0.0005420391860314659,-0.6420473513500318,null],\"y\":[0.14120176284727876,0.662404034128658,null],\"type\":\"scatter\"},{\"hoverinfo\":\"text\",\"line\":{\"color\":\"cornflowerblue\",\"width\":0.3},\"mode\":\"lines\",\"text\":[\"EMPEROR--COUNT DOOKU: 1\"],\"x\":[0.20745281092319237,0.4256431861044578,null],\"y\":[-0.06916588941427176,0.45736308279345883,null],\"type\":\"scatter\"},{\"hoverinfo\":\"text\",\"line\":{\"color\":\"cornflowerblue\",\"width\":2.0515563512592996},\"mode\":\"lines\",\"text\":[\"EMPEROR--BAIL ORGANA: 3\"],\"x\":[0.20745281092319237,-0.11047229560028844,null],\"y\":[-0.06916588941427176,-0.1437611016238936,null],\"type\":\"scatter\"},{\"hoverinfo\":\"text\",\"line\":{\"color\":\"cornflowerblue\",\"width\":1.0090756983044573},\"mode\":\"lines\",\"text\":[\"EMPEROR--C-3PO: 2\"],\"x\":[0.20745281092319237,-0.18384986517254173,null],\"y\":[-0.06916588941427176,-0.06739761503593067,null],\"type\":\"scatter\"},{\"hoverinfo\":\"text\",\"line\":{\"color\":\"cornflowerblue\",\"width\":0.3},\"mode\":\"lines\",\"text\":[\"EMPEROR--JAR JAR: 1\"],\"x\":[0.20745281092319237,-0.25324652259186226,null],\"y\":[-0.06916588941427176,-0.5711595498781373,null],\"type\":\"scatter\"},{\"hoverinfo\":\"text\",\"line\":{\"color\":\"cornflowerblue\",\"width\":3.394112549695428},\"mode\":\"lines\",\"text\":[\"EMPEROR--PADME: 4\"],\"x\":[0.20745281092319237,0.03515542158507528,null],\"y\":[-0.06916588941427176,-0.1894523775951355,null],\"type\":\"scatter\"},{\"hoverinfo\":\"text\",\"line\":{\"color\":\"cornflowerblue\",\"width\":0.3},\"mode\":\"lines\",\"text\":[\"EMPEROR--MACE WINDU: 1\"],\"x\":[0.20745281092319237,0.06204795897498513,null],\"y\":[-0.06916588941427176,0.3160798267259304,null],\"type\":\"scatter\"},{\"hoverinfo\":\"text\",\"line\":{\"color\":\"cornflowerblue\",\"width\":0.3},\"mode\":\"lines\",\"text\":[\"EMPEROR--NUTE GUNRAY: 1\"],\"x\":[0.20745281092319237,0.9420229953688957,null],\"y\":[-0.06916588941427176,0.059885628434587945,null],\"type\":\"scatter\"},{\"hoverinfo\":\"text\",\"line\":{\"color\":\"cornflowerblue\",\"width\":0.3},\"mode\":\"lines\",\"text\":[\"EMPEROR--DARTH VADER: 1\"],\"x\":[0.20745281092319237,0.7791383271042743,null],\"y\":[-0.06916588941427176,-0.6512693433563425,null],\"type\":\"scatter\"},{\"hoverinfo\":\"text\",\"line\":{\"color\":\"cornflowerblue\",\"width\":0.3},\"mode\":\"lines\",\"text\":[\"GENERAL GRIEVOUS--NUTE GUNRAY: 1\"],\"x\":[0.5523028152371541,0.9420229953688957,null],\"y\":[0.17974142751468009,0.059885628434587945,null],\"type\":\"scatter\"},{\"hoverinfo\":\"text\",\"line\":{\"color\":\"cornflowerblue\",\"width\":2.0515563512592996},\"mode\":\"lines\",\"text\":[\"BAIL ORGANA--C-3PO: 3\"],\"x\":[-0.11047229560028844,-0.18384986517254173,null],\"y\":[-0.1437611016238936,-0.06739761503593067,null],\"type\":\"scatter\"},{\"hoverinfo\":\"text\",\"line\":{\"color\":\"cornflowerblue\",\"width\":5.015552287323165},\"mode\":\"lines\",\"text\":[\"BAIL ORGANA--PADME: 5\"],\"x\":[-0.11047229560028844,0.03515542158507528,null],\"y\":[-0.1437611016238936,-0.1894523775951355,null],\"type\":\"scatter\"},{\"hoverinfo\":\"text\",\"line\":{\"color\":\"cornflowerblue\",\"width\":1.0090756983044573},\"mode\":\"lines\",\"text\":[\"BAIL ORGANA--FANG ZAR: 2\"],\"x\":[-0.11047229560028844,0.19708376929153285,null],\"y\":[-0.1437611016238936,-0.5186528028245108,null],\"type\":\"scatter\"},{\"hoverinfo\":\"text\",\"line\":{\"color\":\"cornflowerblue\",\"width\":1.0090756983044573},\"mode\":\"lines\",\"text\":[\"BAIL ORGANA--MON MOTHMA: 2\"],\"x\":[-0.11047229560028844,0.0018412052554577672,null],\"y\":[-0.1437611016238936,-0.5971674561895075,null],\"type\":\"scatter\"},{\"hoverinfo\":\"text\",\"line\":{\"color\":\"cornflowerblue\",\"width\":0.3},\"mode\":\"lines\",\"text\":[\"BAIL ORGANA--GIDDEAN DANU: 1\"],\"x\":[-0.11047229560028844,0.15684862450577838,null],\"y\":[-0.1437611016238936,-0.7756963454806071,null],\"type\":\"scatter\"},{\"hoverinfo\":\"text\",\"line\":{\"color\":\"cornflowerblue\",\"width\":1.0090756983044573},\"mode\":\"lines\",\"text\":[\"BAIL ORGANA--CAPTAIN ANTILLES: 2\"],\"x\":[-0.11047229560028844,-0.6205301069454501,null],\"y\":[-0.1437611016238936,-0.31784294161869175,null],\"type\":\"scatter\"},{\"hoverinfo\":\"text\",\"line\":{\"color\":\"cornflowerblue\",\"width\":6.900585525859743},\"mode\":\"lines\",\"text\":[\"BAIL ORGANA--YODA: 6\"],\"x\":[-0.11047229560028844,-0.17228258684979778,null],\"y\":[-0.1437611016238936,0.22007939550888192,null],\"type\":\"scatter\"},{\"hoverinfo\":\"text\",\"line\":{\"color\":\"cornflowerblue\",\"width\":0.3},\"mode\":\"lines\",\"text\":[\"BAIL ORGANA--QUI-GON: 1\"],\"x\":[-0.11047229560028844,-0.7284472185603575,null],\"y\":[-0.1437611016238936,0.11300029429300318,null],\"type\":\"scatter\"},{\"hoverinfo\":\"text\",\"line\":{\"color\":\"cornflowerblue\",\"width\":5.015552287323165},\"mode\":\"lines\",\"text\":[\"C-3PO--PADME: 5\"],\"x\":[-0.18384986517254173,0.03515542158507528,null],\"y\":[-0.06739761503593067,-0.1894523775951355,null],\"type\":\"scatter\"},{\"hoverinfo\":\"text\",\"line\":{\"color\":\"cornflowerblue\",\"width\":1.0090756983044573},\"mode\":\"lines\",\"text\":[\"C-3PO--CAPTAIN TYPHO: 2\"],\"x\":[-0.18384986517254173,-0.2689326381087303,null],\"y\":[-0.06739761503593067,-0.3574085184116365,null],\"type\":\"scatter\"},{\"hoverinfo\":\"text\",\"line\":{\"color\":\"cornflowerblue\",\"width\":0.3},\"mode\":\"lines\",\"text\":[\"C-3PO--YODA: 1\"],\"x\":[-0.18384986517254173,-0.17228258684979778,null],\"y\":[-0.06739761503593067,0.22007939550888192,null],\"type\":\"scatter\"},{\"hoverinfo\":\"text\",\"line\":{\"color\":\"cornflowerblue\",\"width\":0.3},\"mode\":\"lines\",\"text\":[\"C-3PO--CAPTAIN ANTILLES: 1\"],\"x\":[-0.18384986517254173,-0.6205301069454501,null],\"y\":[-0.06739761503593067,-0.31784294161869175,null],\"type\":\"scatter\"},{\"hoverinfo\":\"text\",\"line\":{\"color\":\"cornflowerblue\",\"width\":1.0090756983044573},\"mode\":\"lines\",\"text\":[\"PADME--FANG ZAR: 2\"],\"x\":[0.03515542158507528,0.19708376929153285,null],\"y\":[-0.1894523775951355,-0.5186528028245108,null],\"type\":\"scatter\"},{\"hoverinfo\":\"text\",\"line\":{\"color\":\"cornflowerblue\",\"width\":1.0090756983044573},\"mode\":\"lines\",\"text\":[\"PADME--MON MOTHMA: 2\"],\"x\":[0.03515542158507528,0.0018412052554577672,null],\"y\":[-0.1894523775951355,-0.5971674561895075,null],\"type\":\"scatter\"},{\"hoverinfo\":\"text\",\"line\":{\"color\":\"cornflowerblue\",\"width\":0.3},\"mode\":\"lines\",\"text\":[\"PADME--GIDDEAN DANU: 1\"],\"x\":[0.03515542158507528,0.15684862450577838,null],\"y\":[-0.1894523775951355,-0.7756963454806071,null],\"type\":\"scatter\"},{\"hoverinfo\":\"text\",\"line\":{\"color\":\"cornflowerblue\",\"width\":1.0090756983044573},\"mode\":\"lines\",\"text\":[\"PADME--CAPTAIN TYPHO: 2\"],\"x\":[0.03515542158507528,-0.2689326381087303,null],\"y\":[-0.1894523775951355,-0.3574085184116365,null],\"type\":\"scatter\"},{\"hoverinfo\":\"text\",\"line\":{\"color\":\"cornflowerblue\",\"width\":3.394112549695428},\"mode\":\"lines\",\"text\":[\"YODA--MACE WINDU: 4\"],\"x\":[-0.17228258684979778,0.06204795897498513,null],\"y\":[0.22007939550888192,0.3160798267259304,null],\"type\":\"scatter\"},{\"hoverinfo\":\"text\",\"line\":{\"color\":\"cornflowerblue\",\"width\":0.3},\"mode\":\"lines\",\"text\":[\"YODA--CLONE COMMANDER GREE: 1\"],\"x\":[-0.17228258684979778,-0.4557134885797656,null],\"y\":[0.22007939550888192,1.0,null],\"type\":\"scatter\"},{\"hoverinfo\":\"text\",\"line\":{\"color\":\"cornflowerblue\",\"width\":0.3},\"mode\":\"lines\",\"text\":[\"YODA--CLONE COMMANDER CODY: 1\"],\"x\":[-0.17228258684979778,0.15771970457128084,null],\"y\":[0.22007939550888192,0.5263156499647962,null],\"type\":\"scatter\"},{\"hoverinfo\":\"text\",\"line\":{\"color\":\"cornflowerblue\",\"width\":0.3},\"mode\":\"lines\",\"text\":[\"YODA--QUI-GON: 1\"],\"x\":[-0.17228258684979778,-0.7284472185603575,null],\"y\":[0.22007939550888192,0.11300029429300318,null],\"type\":\"scatter\"},{\"hoverinfo\":\"text\",\"line\":{\"color\":\"cornflowerblue\",\"width\":1.0090756983044573},\"mode\":\"lines\",\"text\":[\"FANG ZAR--MON MOTHMA: 2\"],\"x\":[0.19708376929153285,0.0018412052554577672,null],\"y\":[-0.5186528028245108,-0.5971674561895075,null],\"type\":\"scatter\"},{\"hoverinfo\":\"text\",\"line\":{\"color\":\"cornflowerblue\",\"width\":0.3},\"mode\":\"lines\",\"text\":[\"FANG ZAR--GIDDEAN DANU: 1\"],\"x\":[0.19708376929153285,0.15684862450577838,null],\"y\":[-0.5186528028245108,-0.7756963454806071,null],\"type\":\"scatter\"},{\"hoverinfo\":\"text\",\"line\":{\"color\":\"cornflowerblue\",\"width\":0.3},\"mode\":\"lines\",\"text\":[\"MON MOTHMA--GIDDEAN DANU: 1\"],\"x\":[0.0018412052554577672,0.15684862450577838,null],\"y\":[-0.5971674561895075,-0.7756963454806071,null],\"type\":\"scatter\"},{\"hoverinfo\":\"text\",\"line\":{\"color\":\"cornflowerblue\",\"width\":0.3},\"mode\":\"lines\",\"text\":[\"MACE WINDU--CLONE COMMANDER CODY: 1\"],\"x\":[0.06204795897498513,0.15771970457128084,null],\"y\":[0.3160798267259304,0.5263156499647962,null],\"type\":\"scatter\"},{\"marker\":{\"color\":[\"red\"],\"size\":70},\"mode\":\"markers+text\",\"text\":[\"<b>ANAKIN</b>\"],\"textfont\":{\"size\":10},\"textposition\":\"top center\",\"x\":[0.04714416735536232],\"y\":[0.05351827329873022],\"type\":\"scatter\"},{\"marker\":{\"color\":[\"red\"],\"size\":68},\"mode\":\"markers+text\",\"text\":[\"<b>OBI-WAN</b>\"],\"textfont\":{\"size\":10},\"textposition\":\"top center\",\"x\":[0.0005420391860314659],\"y\":[0.14120176284727876],\"type\":\"scatter\"},{\"marker\":{\"color\":[\"red\"],\"size\":44},\"mode\":\"markers+text\",\"text\":[\"<b>ODD BALL</b>\"],\"textfont\":{\"size\":10},\"textposition\":\"top center\",\"x\":[-0.12942095170465037],\"y\":[0.5293845659186582],\"type\":\"scatter\"},{\"marker\":{\"color\":[\"red\"],\"size\":62},\"mode\":\"markers+text\",\"text\":[\"<b>EMPEROR</b>\"],\"textfont\":{\"size\":10},\"textposition\":\"top center\",\"x\":[0.20745281092319237],\"y\":[-0.06916588941427176],\"type\":\"scatter\"},{\"marker\":{\"color\":[\"red\"],\"size\":46},\"mode\":\"markers+text\",\"text\":[\"<b>COUNT DOOKU</b>\"],\"textfont\":{\"size\":10},\"textposition\":\"top center\",\"x\":[0.4256431861044578],\"y\":[0.45736308279345883],\"type\":\"scatter\"},{\"marker\":{\"color\":[\"red\"],\"size\":45},\"mode\":\"markers+text\",\"text\":[\"<b>GENERAL GRIEVOUS</b>\"],\"textfont\":{\"size\":10},\"textposition\":\"top center\",\"x\":[0.5523028152371541],\"y\":[0.17974142751468009],\"type\":\"scatter\"},{\"marker\":{\"color\":[\"red\"],\"size\":66},\"mode\":\"markers+text\",\"text\":[\"<b>BAIL ORGANA</b>\"],\"textfont\":{\"size\":10},\"textposition\":\"top center\",\"x\":[-0.11047229560028844],\"y\":[-0.1437611016238936],\"type\":\"scatter\"},{\"marker\":{\"color\":[\"red\"],\"size\":61},\"mode\":\"markers+text\",\"text\":[\"<b>C-3PO</b>\"],\"textfont\":{\"size\":10},\"textposition\":\"top center\",\"x\":[-0.18384986517254173],\"y\":[-0.06739761503593067],\"type\":\"scatter\"},{\"marker\":{\"color\":[\"red\"],\"size\":61},\"mode\":\"markers+text\",\"text\":[\"<b>PADME</b>\"],\"textfont\":{\"size\":10},\"textposition\":\"top center\",\"x\":[0.03515542158507528],\"y\":[-0.1894523775951355],\"type\":\"scatter\"},{\"marker\":{\"color\":[\"red\"],\"size\":57},\"mode\":\"markers+text\",\"text\":[\"<b>YODA</b>\"],\"textfont\":{\"size\":10},\"textposition\":\"top center\",\"x\":[-0.17228258684979778],\"y\":[0.22007939550888192],\"type\":\"scatter\"},{\"marker\":{\"color\":[\"red\"],\"size\":44},\"mode\":\"markers+text\",\"text\":[\"<b>FANG ZAR</b>\"],\"textfont\":{\"size\":10},\"textposition\":\"top center\",\"x\":[0.19708376929153285],\"y\":[-0.5186528028245108],\"type\":\"scatter\"},{\"marker\":{\"color\":[\"red\"],\"size\":44},\"mode\":\"markers+text\",\"text\":[\"<b>MON MOTHMA</b>\"],\"textfont\":{\"size\":10},\"textposition\":\"top center\",\"x\":[0.0018412052554577672],\"y\":[-0.5971674561895075],\"type\":\"scatter\"},{\"marker\":{\"color\":[\"red\"],\"size\":44},\"mode\":\"markers+text\",\"text\":[\"<b>GIDDEAN DANU</b>\"],\"textfont\":{\"size\":10},\"textposition\":\"top center\",\"x\":[0.15684862450577838],\"y\":[-0.7756963454806071],\"type\":\"scatter\"},{\"marker\":{\"color\":[\"red\"],\"size\":51},\"mode\":\"markers+text\",\"text\":[\"<b>MACE WINDU</b>\"],\"textfont\":{\"size\":10},\"textposition\":\"top center\",\"x\":[0.06204795897498513],\"y\":[0.3160798267259304],\"type\":\"scatter\"},{\"marker\":{\"color\":[\"red\"],\"size\":47},\"mode\":\"markers+text\",\"text\":[\"<b>CAPTAIN TYPHO</b>\"],\"textfont\":{\"size\":10},\"textposition\":\"top center\",\"x\":[-0.2689326381087303],\"y\":[-0.3574085184116365],\"type\":\"scatter\"},{\"marker\":{\"color\":[\"red\"],\"size\":37},\"mode\":\"markers+text\",\"text\":[\"<b>CLONE COMMANDER GREE</b>\"],\"textfont\":{\"size\":10},\"textposition\":\"top center\",\"x\":[-0.4557134885797656],\"y\":[1.0],\"type\":\"scatter\"},{\"marker\":{\"color\":[\"red\"],\"size\":47},\"mode\":\"markers+text\",\"text\":[\"<b>CLONE COMMANDER CODY</b>\"],\"textfont\":{\"size\":10},\"textposition\":\"top center\",\"x\":[0.15771970457128084],\"y\":[0.5263156499647962],\"type\":\"scatter\"},{\"marker\":{\"color\":[\"red\"],\"size\":44},\"mode\":\"markers+text\",\"text\":[\"<b>JAR JAR</b>\"],\"textfont\":{\"size\":10},\"textposition\":\"top center\",\"x\":[-0.25324652259186226],\"y\":[-0.5711595498781373],\"type\":\"scatter\"},{\"marker\":{\"color\":[\"red\"],\"size\":41},\"mode\":\"markers+text\",\"text\":[\"<b>TION MEDON</b>\"],\"textfont\":{\"size\":10},\"textposition\":\"top center\",\"x\":[-0.6420473513500318],\"y\":[0.662404034128658],\"type\":\"scatter\"},{\"marker\":{\"color\":[\"red\"],\"size\":40},\"mode\":\"markers+text\",\"text\":[\"<b>NUTE GUNRAY</b>\"],\"textfont\":{\"size\":10},\"textposition\":\"top center\",\"x\":[0.9420229953688957],\"y\":[0.059885628434587945],\"type\":\"scatter\"},{\"marker\":{\"color\":[\"red\"],\"size\":42},\"mode\":\"markers+text\",\"text\":[\"<b>CAPTAIN ANTILLES</b>\"],\"textfont\":{\"size\":10},\"textposition\":\"top center\",\"x\":[-0.6205301069454501],\"y\":[-0.31784294161869175],\"type\":\"scatter\"},{\"marker\":{\"color\":[\"red\"],\"size\":44},\"mode\":\"markers+text\",\"text\":[\"<b>QUI-GON</b>\"],\"textfont\":{\"size\":10},\"textposition\":\"top center\",\"x\":[-0.7284472185603575],\"y\":[0.11300029429300318],\"type\":\"scatter\"},{\"marker\":{\"color\":[\"red\"],\"size\":39},\"mode\":\"markers+text\",\"text\":[\"<b>DARTH VADER</b>\"],\"textfont\":{\"size\":10},\"textposition\":\"top center\",\"x\":[0.7791383271042743],\"y\":[-0.6512693433563425],\"type\":\"scatter\"}],                        {\"paper_bgcolor\":\"rgba(0,0,0,0)\",\"plot_bgcolor\":\"rgba(0,0,0,0)\",\"xaxis\":{\"showgrid\":false,\"zeroline\":false,\"showticklabels\":false},\"yaxis\":{\"showgrid\":false,\"zeroline\":false,\"showticklabels\":false},\"template\":{\"data\":{\"bar\":[{\"error_x\":{\"color\":\"#2a3f5f\"},\"error_y\":{\"color\":\"#2a3f5f\"},\"marker\":{\"line\":{\"color\":\"#E5ECF6\",\"width\":0.5},\"pattern\":{\"fillmode\":\"overlay\",\"size\":10,\"solidity\":0.2}},\"type\":\"bar\"}],\"barpolar\":[{\"marker\":{\"line\":{\"color\":\"#E5ECF6\",\"width\":0.5},\"pattern\":{\"fillmode\":\"overlay\",\"size\":10,\"solidity\":0.2}},\"type\":\"barpolar\"}],\"carpet\":[{\"aaxis\":{\"endlinecolor\":\"#2a3f5f\",\"gridcolor\":\"white\",\"linecolor\":\"white\",\"minorgridcolor\":\"white\",\"startlinecolor\":\"#2a3f5f\"},\"baxis\":{\"endlinecolor\":\"#2a3f5f\",\"gridcolor\":\"white\",\"linecolor\":\"white\",\"minorgridcolor\":\"white\",\"startlinecolor\":\"#2a3f5f\"},\"type\":\"carpet\"}],\"choropleth\":[{\"colorbar\":{\"outlinewidth\":0,\"ticks\":\"\"},\"type\":\"choropleth\"}],\"contour\":[{\"colorbar\":{\"outlinewidth\":0,\"ticks\":\"\"},\"colorscale\":[[0.0,\"#0d0887\"],[0.1111111111111111,\"#46039f\"],[0.2222222222222222,\"#7201a8\"],[0.3333333333333333,\"#9c179e\"],[0.4444444444444444,\"#bd3786\"],[0.5555555555555556,\"#d8576b\"],[0.6666666666666666,\"#ed7953\"],[0.7777777777777778,\"#fb9f3a\"],[0.8888888888888888,\"#fdca26\"],[1.0,\"#f0f921\"]],\"type\":\"contour\"}],\"contourcarpet\":[{\"colorbar\":{\"outlinewidth\":0,\"ticks\":\"\"},\"type\":\"contourcarpet\"}],\"heatmap\":[{\"colorbar\":{\"outlinewidth\":0,\"ticks\":\"\"},\"colorscale\":[[0.0,\"#0d0887\"],[0.1111111111111111,\"#46039f\"],[0.2222222222222222,\"#7201a8\"],[0.3333333333333333,\"#9c179e\"],[0.4444444444444444,\"#bd3786\"],[0.5555555555555556,\"#d8576b\"],[0.6666666666666666,\"#ed7953\"],[0.7777777777777778,\"#fb9f3a\"],[0.8888888888888888,\"#fdca26\"],[1.0,\"#f0f921\"]],\"type\":\"heatmap\"}],\"heatmapgl\":[{\"colorbar\":{\"outlinewidth\":0,\"ticks\":\"\"},\"colorscale\":[[0.0,\"#0d0887\"],[0.1111111111111111,\"#46039f\"],[0.2222222222222222,\"#7201a8\"],[0.3333333333333333,\"#9c179e\"],[0.4444444444444444,\"#bd3786\"],[0.5555555555555556,\"#d8576b\"],[0.6666666666666666,\"#ed7953\"],[0.7777777777777778,\"#fb9f3a\"],[0.8888888888888888,\"#fdca26\"],[1.0,\"#f0f921\"]],\"type\":\"heatmapgl\"}],\"histogram\":[{\"marker\":{\"pattern\":{\"fillmode\":\"overlay\",\"size\":10,\"solidity\":0.2}},\"type\":\"histogram\"}],\"histogram2d\":[{\"colorbar\":{\"outlinewidth\":0,\"ticks\":\"\"},\"colorscale\":[[0.0,\"#0d0887\"],[0.1111111111111111,\"#46039f\"],[0.2222222222222222,\"#7201a8\"],[0.3333333333333333,\"#9c179e\"],[0.4444444444444444,\"#bd3786\"],[0.5555555555555556,\"#d8576b\"],[0.6666666666666666,\"#ed7953\"],[0.7777777777777778,\"#fb9f3a\"],[0.8888888888888888,\"#fdca26\"],[1.0,\"#f0f921\"]],\"type\":\"histogram2d\"}],\"histogram2dcontour\":[{\"colorbar\":{\"outlinewidth\":0,\"ticks\":\"\"},\"colorscale\":[[0.0,\"#0d0887\"],[0.1111111111111111,\"#46039f\"],[0.2222222222222222,\"#7201a8\"],[0.3333333333333333,\"#9c179e\"],[0.4444444444444444,\"#bd3786\"],[0.5555555555555556,\"#d8576b\"],[0.6666666666666666,\"#ed7953\"],[0.7777777777777778,\"#fb9f3a\"],[0.8888888888888888,\"#fdca26\"],[1.0,\"#f0f921\"]],\"type\":\"histogram2dcontour\"}],\"mesh3d\":[{\"colorbar\":{\"outlinewidth\":0,\"ticks\":\"\"},\"type\":\"mesh3d\"}],\"parcoords\":[{\"line\":{\"colorbar\":{\"outlinewidth\":0,\"ticks\":\"\"}},\"type\":\"parcoords\"}],\"pie\":[{\"automargin\":true,\"type\":\"pie\"}],\"scatter\":[{\"marker\":{\"colorbar\":{\"outlinewidth\":0,\"ticks\":\"\"}},\"type\":\"scatter\"}],\"scatter3d\":[{\"line\":{\"colorbar\":{\"outlinewidth\":0,\"ticks\":\"\"}},\"marker\":{\"colorbar\":{\"outlinewidth\":0,\"ticks\":\"\"}},\"type\":\"scatter3d\"}],\"scattercarpet\":[{\"marker\":{\"colorbar\":{\"outlinewidth\":0,\"ticks\":\"\"}},\"type\":\"scattercarpet\"}],\"scattergeo\":[{\"marker\":{\"colorbar\":{\"outlinewidth\":0,\"ticks\":\"\"}},\"type\":\"scattergeo\"}],\"scattergl\":[{\"marker\":{\"colorbar\":{\"outlinewidth\":0,\"ticks\":\"\"}},\"type\":\"scattergl\"}],\"scattermapbox\":[{\"marker\":{\"colorbar\":{\"outlinewidth\":0,\"ticks\":\"\"}},\"type\":\"scattermapbox\"}],\"scatterpolar\":[{\"marker\":{\"colorbar\":{\"outlinewidth\":0,\"ticks\":\"\"}},\"type\":\"scatterpolar\"}],\"scatterpolargl\":[{\"marker\":{\"colorbar\":{\"outlinewidth\":0,\"ticks\":\"\"}},\"type\":\"scatterpolargl\"}],\"scatterternary\":[{\"marker\":{\"colorbar\":{\"outlinewidth\":0,\"ticks\":\"\"}},\"type\":\"scatterternary\"}],\"surface\":[{\"colorbar\":{\"outlinewidth\":0,\"ticks\":\"\"},\"colorscale\":[[0.0,\"#0d0887\"],[0.1111111111111111,\"#46039f\"],[0.2222222222222222,\"#7201a8\"],[0.3333333333333333,\"#9c179e\"],[0.4444444444444444,\"#bd3786\"],[0.5555555555555556,\"#d8576b\"],[0.6666666666666666,\"#ed7953\"],[0.7777777777777778,\"#fb9f3a\"],[0.8888888888888888,\"#fdca26\"],[1.0,\"#f0f921\"]],\"type\":\"surface\"}],\"table\":[{\"cells\":{\"fill\":{\"color\":\"#EBF0F8\"},\"line\":{\"color\":\"white\"}},\"header\":{\"fill\":{\"color\":\"#C8D4E3\"},\"line\":{\"color\":\"white\"}},\"type\":\"table\"}]},\"layout\":{\"annotationdefaults\":{\"arrowcolor\":\"#2a3f5f\",\"arrowhead\":0,\"arrowwidth\":1},\"autotypenumbers\":\"strict\",\"coloraxis\":{\"colorbar\":{\"outlinewidth\":0,\"ticks\":\"\"}},\"colorscale\":{\"diverging\":[[0,\"#8e0152\"],[0.1,\"#c51b7d\"],[0.2,\"#de77ae\"],[0.3,\"#f1b6da\"],[0.4,\"#fde0ef\"],[0.5,\"#f7f7f7\"],[0.6,\"#e6f5d0\"],[0.7,\"#b8e186\"],[0.8,\"#7fbc41\"],[0.9,\"#4d9221\"],[1,\"#276419\"]],\"sequential\":[[0.0,\"#0d0887\"],[0.1111111111111111,\"#46039f\"],[0.2222222222222222,\"#7201a8\"],[0.3333333333333333,\"#9c179e\"],[0.4444444444444444,\"#bd3786\"],[0.5555555555555556,\"#d8576b\"],[0.6666666666666666,\"#ed7953\"],[0.7777777777777778,\"#fb9f3a\"],[0.8888888888888888,\"#fdca26\"],[1.0,\"#f0f921\"]],\"sequentialminus\":[[0.0,\"#0d0887\"],[0.1111111111111111,\"#46039f\"],[0.2222222222222222,\"#7201a8\"],[0.3333333333333333,\"#9c179e\"],[0.4444444444444444,\"#bd3786\"],[0.5555555555555556,\"#d8576b\"],[0.6666666666666666,\"#ed7953\"],[0.7777777777777778,\"#fb9f3a\"],[0.8888888888888888,\"#fdca26\"],[1.0,\"#f0f921\"]]},\"colorway\":[\"#636efa\",\"#EF553B\",\"#00cc96\",\"#ab63fa\",\"#FFA15A\",\"#19d3f3\",\"#FF6692\",\"#B6E880\",\"#FF97FF\",\"#FECB52\"],\"font\":{\"color\":\"#2a3f5f\"},\"geo\":{\"bgcolor\":\"white\",\"lakecolor\":\"white\",\"landcolor\":\"#E5ECF6\",\"showlakes\":true,\"showland\":true,\"subunitcolor\":\"white\"},\"hoverlabel\":{\"align\":\"left\"},\"hovermode\":\"closest\",\"mapbox\":{\"style\":\"light\"},\"paper_bgcolor\":\"white\",\"plot_bgcolor\":\"#E5ECF6\",\"polar\":{\"angularaxis\":{\"gridcolor\":\"white\",\"linecolor\":\"white\",\"ticks\":\"\"},\"bgcolor\":\"#E5ECF6\",\"radialaxis\":{\"gridcolor\":\"white\",\"linecolor\":\"white\",\"ticks\":\"\"}},\"scene\":{\"xaxis\":{\"backgroundcolor\":\"#E5ECF6\",\"gridcolor\":\"white\",\"gridwidth\":2,\"linecolor\":\"white\",\"showbackground\":true,\"ticks\":\"\",\"zerolinecolor\":\"white\"},\"yaxis\":{\"backgroundcolor\":\"#E5ECF6\",\"gridcolor\":\"white\",\"gridwidth\":2,\"linecolor\":\"white\",\"showbackground\":true,\"ticks\":\"\",\"zerolinecolor\":\"white\"},\"zaxis\":{\"backgroundcolor\":\"#E5ECF6\",\"gridcolor\":\"white\",\"gridwidth\":2,\"linecolor\":\"white\",\"showbackground\":true,\"ticks\":\"\",\"zerolinecolor\":\"white\"}},\"shapedefaults\":{\"line\":{\"color\":\"#2a3f5f\"}},\"ternary\":{\"aaxis\":{\"gridcolor\":\"white\",\"linecolor\":\"white\",\"ticks\":\"\"},\"baxis\":{\"gridcolor\":\"white\",\"linecolor\":\"white\",\"ticks\":\"\"},\"bgcolor\":\"#E5ECF6\",\"caxis\":{\"gridcolor\":\"white\",\"linecolor\":\"white\",\"ticks\":\"\"}},\"title\":{\"x\":0.05},\"xaxis\":{\"automargin\":true,\"gridcolor\":\"white\",\"linecolor\":\"white\",\"ticks\":\"\",\"title\":{\"standoff\":15},\"zerolinecolor\":\"white\",\"zerolinewidth\":2},\"yaxis\":{\"automargin\":true,\"gridcolor\":\"white\",\"linecolor\":\"white\",\"ticks\":\"\",\"title\":{\"standoff\":15},\"zerolinecolor\":\"white\",\"zerolinewidth\":2}}},\"showlegend\":false},                        {\"responsive\": true}                    ).then(function(){\n",
       "                            \n",
       "var gd = document.getElementById('5681a20d-8ed6-432c-9ad8-1d735fc95ce9');\n",
       "var x = new MutationObserver(function (mutations, observer) {{\n",
       "        var display = window.getComputedStyle(gd).display;\n",
       "        if (!display || display === 'none') {{\n",
       "            console.log([gd, 'removed!']);\n",
       "            Plotly.purge(gd);\n",
       "            observer.disconnect();\n",
       "        }}\n",
       "}});\n",
       "\n",
       "// Listen for the removal of the full notebook cells\n",
       "var notebookContainer = gd.closest('#notebook-container');\n",
       "if (notebookContainer) {{\n",
       "    x.observe(notebookContainer, {childList: true});\n",
       "}}\n",
       "\n",
       "// Listen for the clearing of the current output cell\n",
       "var outputEl = gd.closest('.output');\n",
       "if (outputEl) {{\n",
       "    x.observe(outputEl, {childList: true});\n",
       "}}\n",
       "\n",
       "                        })                };                            </script>        </div>\n",
       "</body>\n",
       "</html>"
      ]
     },
     "metadata": {},
     "output_type": "display_data"
    }
   ],
   "source": [
    "draw_plotly_graph(star_wars_graph, closeness_centrality)"
   ]
  },
  {
   "cell_type": "code",
   "execution_count": null,
   "metadata": {
    "colab": {
     "base_uri": "https://localhost:8080/",
     "height": 609,
     "referenced_widgets": [
      "67a8a69a93e448019c418eee6681b5a9",
      "c248f3c2d679480294575b9dc4fb7694",
      "75f5cd2b2287469985b688c5fa0a1f6c",
      "3a36760b5a2e458c8030af60d8f43000",
      "aab8e65528f84f1092bd7d84475cce7f",
      "6c43bba4743d426b94466c224e9463fb",
      "a8623607eb0546de8890c2185142464b",
      "3acbbbdee1274208b789924abf63969f",
      "6a6e39529f2b4cc6ac55f8f56593b073",
      "5dd6d814f36c448b83c12f6b539cc10d",
      "9b24be5ac06f49ed90705bf438613a13"
     ]
    },
    "id": "0JHkhAwiiULd",
    "outputId": "0834df1b-5f81-4eca-e803-3878e9d3e2e1"
   },
   "outputs": [
    {
     "name": "stdout",
     "output_type": "stream",
     "text": [
      "making spring layout\n",
      "made spring layout\n"
     ]
    },
    {
     "data": {
      "application/vnd.jupyter.widget-view+json": {
       "model_id": "67a8a69a93e448019c418eee6681b5a9",
       "version_major": 2,
       "version_minor": 0
      },
      "text/plain": [
       "  0%|          | 0/57 [00:00<?, ?it/s]"
      ]
     },
     "metadata": {},
     "output_type": "display_data"
    },
    {
     "data": {
      "text/html": [
       "<html>\n",
       "<head><meta charset=\"utf-8\" /></head>\n",
       "<body>\n",
       "    <div>            <script src=\"https://cdnjs.cloudflare.com/ajax/libs/mathjax/2.7.5/MathJax.js?config=TeX-AMS-MML_SVG\"></script><script type=\"text/javascript\">if (window.MathJax) {MathJax.Hub.Config({SVG: {font: \"STIX-Web\"}});}</script>                <script type=\"text/javascript\">window.PlotlyConfig = {MathJaxConfig: 'local'};</script>\n",
       "        <script src=\"https://cdn.plot.ly/plotly-2.8.3.min.js\"></script>                <div id=\"9b46d612-a5b9-4ce4-9f83-29f60c885758\" class=\"plotly-graph-div\" style=\"height:525px; width:100%;\"></div>            <script type=\"text/javascript\">                                    window.PLOTLYENV=window.PLOTLYENV || {};                                    if (document.getElementById(\"9b46d612-a5b9-4ce4-9f83-29f60c885758\")) {                    Plotly.newPlot(                        \"9b46d612-a5b9-4ce4-9f83-29f60c885758\",                        [{\"hoverinfo\":\"text\",\"line\":{\"color\":\"cornflowerblue\",\"width\":102.24634908146199},\"mode\":\"lines\",\"text\":[\"ANAKIN--OBI-WAN: 28\"],\"x\":[0.025730412738982272,0.034049608708451064,null],\"y\":[0.04042048741718695,0.12492224104314992,null],\"type\":\"scatter\"},{\"hoverinfo\":\"text\",\"line\":{\"color\":\"cornflowerblue\",\"width\":1.0090756983044573},\"mode\":\"lines\",\"text\":[\"ANAKIN--ODD BALL: 2\"],\"x\":[0.025730412738982272,0.41515606139459893,null],\"y\":[0.04042048741718695,0.2952464156985468,null],\"type\":\"scatter\"},{\"hoverinfo\":\"text\",\"line\":{\"color\":\"cornflowerblue\",\"width\":30.398021452681625},\"mode\":\"lines\",\"text\":[\"ANAKIN--EMPEROR: 14\"],\"x\":[0.025730412738982272,-0.16951060164497658,null],\"y\":[0.04042048741718695,0.047552882965828595,null],\"type\":\"scatter\"},{\"hoverinfo\":\"text\",\"line\":{\"color\":\"cornflowerblue\",\"width\":0.3},\"mode\":\"lines\",\"text\":[\"ANAKIN--COUNT DOOKU: 1\"],\"x\":[0.025730412738982272,-0.4314601042605689,null],\"y\":[0.04042048741718695,0.25549862723152317,null],\"type\":\"scatter\"},{\"hoverinfo\":\"text\",\"line\":{\"color\":\"cornflowerblue\",\"width\":0.3},\"mode\":\"lines\",\"text\":[\"ANAKIN--GENERAL GRIEVOUS: 1\"],\"x\":[0.025730412738982272,-0.08013439782404864,null],\"y\":[0.04042048741718695,0.5690623370794892,null],\"type\":\"scatter\"},{\"hoverinfo\":\"text\",\"line\":{\"color\":\"cornflowerblue\",\"width\":1.0090756983044573},\"mode\":\"lines\",\"text\":[\"ANAKIN--BAIL ORGANA: 2\"],\"x\":[0.025730412738982272,0.04321012865482687,null],\"y\":[0.04042048741718695,-0.1994727498347485,null],\"type\":\"scatter\"},{\"hoverinfo\":\"text\",\"line\":{\"color\":\"cornflowerblue\",\"width\":3.394112549695428},\"mode\":\"lines\",\"text\":[\"ANAKIN--C-3PO: 4\"],\"x\":[0.025730412738982272,0.1494198312083518,null],\"y\":[0.04042048741718695,-0.15296959554480316,null],\"type\":\"scatter\"},{\"hoverinfo\":\"text\",\"line\":{\"color\":\"cornflowerblue\",\"width\":14.029611541307906},\"mode\":\"lines\",\"text\":[\"ANAKIN--PADME: 9\"],\"x\":[0.025730412738982272,-0.08030266592952927,null],\"y\":[0.04042048741718695,-0.16106447068392038,null],\"type\":\"scatter\"},{\"hoverinfo\":\"text\",\"line\":{\"color\":\"cornflowerblue\",\"width\":5.015552287323165},\"mode\":\"lines\",\"text\":[\"ANAKIN--YODA: 5\"],\"x\":[0.025730412738982272,0.2652184866149197,null],\"y\":[0.04042048741718695,0.05957045979358399,null],\"type\":\"scatter\"},{\"hoverinfo\":\"text\",\"line\":{\"color\":\"cornflowerblue\",\"width\":5.015552287323165},\"mode\":\"lines\",\"text\":[\"ANAKIN--MACE WINDU: 5\"],\"x\":[0.025730412738982272,0.14997715862405234,null],\"y\":[0.04042048741718695,0.2573680222715611,null],\"type\":\"scatter\"},{\"hoverinfo\":\"text\",\"line\":{\"color\":\"cornflowerblue\",\"width\":0.3},\"mode\":\"lines\",\"text\":[\"ANAKIN--CAPTAIN TYPHO: 1\"],\"x\":[0.025730412738982272,0.27984645292575483,null],\"y\":[0.04042048741718695,-0.36573796679273796,null],\"type\":\"scatter\"},{\"hoverinfo\":\"text\",\"line\":{\"color\":\"cornflowerblue\",\"width\":0.3},\"mode\":\"lines\",\"text\":[\"ANAKIN--JAR JAR: 1\"],\"x\":[0.025730412738982272,-0.0322302738223447,null],\"y\":[0.04042048741718695,-0.5484648822490905,null],\"type\":\"scatter\"},{\"hoverinfo\":\"text\",\"line\":{\"color\":\"cornflowerblue\",\"width\":0.3},\"mode\":\"lines\",\"text\":[\"ANAKIN--CLONE COMMANDER CODY: 1\"],\"x\":[0.025730412738982272,0.25598003603906094,null],\"y\":[0.04042048741718695,0.4726230642896346,null],\"type\":\"scatter\"},{\"hoverinfo\":\"text\",\"line\":{\"color\":\"cornflowerblue\",\"width\":1.0090756983044573},\"mode\":\"lines\",\"text\":[\"OBI-WAN--ODD BALL: 2\"],\"x\":[0.034049608708451064,0.41515606139459893,null],\"y\":[0.12492224104314992,0.2952464156985468,null],\"type\":\"scatter\"},{\"hoverinfo\":\"text\",\"line\":{\"color\":\"cornflowerblue\",\"width\":3.394112549695428},\"mode\":\"lines\",\"text\":[\"OBI-WAN--EMPEROR: 4\"],\"x\":[0.034049608708451064,-0.16951060164497658,null],\"y\":[0.12492224104314992,0.047552882965828595,null],\"type\":\"scatter\"},{\"hoverinfo\":\"text\",\"line\":{\"color\":\"cornflowerblue\",\"width\":0.3},\"mode\":\"lines\",\"text\":[\"OBI-WAN--COUNT DOOKU: 1\"],\"x\":[0.034049608708451064,-0.4314601042605689,null],\"y\":[0.12492224104314992,0.25549862723152317,null],\"type\":\"scatter\"},{\"hoverinfo\":\"text\",\"line\":{\"color\":\"cornflowerblue\",\"width\":1.0090756983044573},\"mode\":\"lines\",\"text\":[\"OBI-WAN--GENERAL GRIEVOUS: 2\"],\"x\":[0.034049608708451064,-0.08013439782404864,null],\"y\":[0.12492224104314992,0.5690623370794892,null],\"type\":\"scatter\"},{\"hoverinfo\":\"text\",\"line\":{\"color\":\"cornflowerblue\",\"width\":9.037385848383586},\"mode\":\"lines\",\"text\":[\"OBI-WAN--BAIL ORGANA: 7\"],\"x\":[0.034049608708451064,0.04321012865482687,null],\"y\":[0.12492224104314992,-0.1994727498347485,null],\"type\":\"scatter\"},{\"hoverinfo\":\"text\",\"line\":{\"color\":\"cornflowerblue\",\"width\":2.0515563512592996},\"mode\":\"lines\",\"text\":[\"OBI-WAN--C-3PO: 3\"],\"x\":[0.034049608708451064,0.1494198312083518,null],\"y\":[0.12492224104314992,-0.15296959554480316,null],\"type\":\"scatter\"},{\"hoverinfo\":\"text\",\"line\":{\"color\":\"cornflowerblue\",\"width\":2.0515563512592996},\"mode\":\"lines\",\"text\":[\"OBI-WAN--MACE WINDU: 3\"],\"x\":[0.034049608708451064,0.14997715862405234,null],\"y\":[0.12492224104314992,0.2573680222715611,null],\"type\":\"scatter\"},{\"hoverinfo\":\"text\",\"line\":{\"color\":\"cornflowerblue\",\"width\":19.93234766997288},\"mode\":\"lines\",\"text\":[\"OBI-WAN--YODA: 11\"],\"x\":[0.034049608708451064,0.2652184866149197,null],\"y\":[0.12492224104314992,0.05957045979358399,null],\"type\":\"scatter\"},{\"hoverinfo\":\"text\",\"line\":{\"color\":\"cornflowerblue\",\"width\":6.900585525859743},\"mode\":\"lines\",\"text\":[\"OBI-WAN--PADME: 6\"],\"x\":[0.034049608708451064,-0.08030266592952927,null],\"y\":[0.12492224104314992,-0.16106447068392038,null],\"type\":\"scatter\"},{\"hoverinfo\":\"text\",\"line\":{\"color\":\"cornflowerblue\",\"width\":1.0090756983044573},\"mode\":\"lines\",\"text\":[\"OBI-WAN--CLONE COMMANDER CODY: 2\"],\"x\":[0.034049608708451064,0.25598003603906094,null],\"y\":[0.12492224104314992,0.4726230642896346,null],\"type\":\"scatter\"},{\"hoverinfo\":\"text\",\"line\":{\"color\":\"cornflowerblue\",\"width\":0.3},\"mode\":\"lines\",\"text\":[\"OBI-WAN--TION MEDON: 1\"],\"x\":[0.034049608708451064,-0.5800903022127052,null],\"y\":[0.12492224104314992,0.6330308000998668,null],\"type\":\"scatter\"},{\"hoverinfo\":\"text\",\"line\":{\"color\":\"cornflowerblue\",\"width\":0.3},\"mode\":\"lines\",\"text\":[\"EMPEROR--COUNT DOOKU: 1\"],\"x\":[-0.16951060164497658,-0.4314601042605689,null],\"y\":[0.047552882965828595,0.25549862723152317,null],\"type\":\"scatter\"},{\"hoverinfo\":\"text\",\"line\":{\"color\":\"cornflowerblue\",\"width\":2.0515563512592996},\"mode\":\"lines\",\"text\":[\"EMPEROR--BAIL ORGANA: 3\"],\"x\":[-0.16951060164497658,0.04321012865482687,null],\"y\":[0.047552882965828595,-0.1994727498347485,null],\"type\":\"scatter\"},{\"hoverinfo\":\"text\",\"line\":{\"color\":\"cornflowerblue\",\"width\":1.0090756983044573},\"mode\":\"lines\",\"text\":[\"EMPEROR--C-3PO: 2\"],\"x\":[-0.16951060164497658,0.1494198312083518,null],\"y\":[0.047552882965828595,-0.15296959554480316,null],\"type\":\"scatter\"},{\"hoverinfo\":\"text\",\"line\":{\"color\":\"cornflowerblue\",\"width\":0.3},\"mode\":\"lines\",\"text\":[\"EMPEROR--JAR JAR: 1\"],\"x\":[-0.16951060164497658,-0.0322302738223447,null],\"y\":[0.047552882965828595,-0.5484648822490905,null],\"type\":\"scatter\"},{\"hoverinfo\":\"text\",\"line\":{\"color\":\"cornflowerblue\",\"width\":3.394112549695428},\"mode\":\"lines\",\"text\":[\"EMPEROR--PADME: 4\"],\"x\":[-0.16951060164497658,-0.08030266592952927,null],\"y\":[0.047552882965828595,-0.16106447068392038,null],\"type\":\"scatter\"},{\"hoverinfo\":\"text\",\"line\":{\"color\":\"cornflowerblue\",\"width\":0.3},\"mode\":\"lines\",\"text\":[\"EMPEROR--MACE WINDU: 1\"],\"x\":[-0.16951060164497658,0.14997715862405234,null],\"y\":[0.047552882965828595,0.2573680222715611,null],\"type\":\"scatter\"},{\"hoverinfo\":\"text\",\"line\":{\"color\":\"cornflowerblue\",\"width\":0.3},\"mode\":\"lines\",\"text\":[\"EMPEROR--NUTE GUNRAY: 1\"],\"x\":[-0.16951060164497658,-0.3253682436966259,null],\"y\":[0.047552882965828595,0.7861780535760952,null],\"type\":\"scatter\"},{\"hoverinfo\":\"text\",\"line\":{\"color\":\"cornflowerblue\",\"width\":0.3},\"mode\":\"lines\",\"text\":[\"EMPEROR--DARTH VADER: 1\"],\"x\":[-0.16951060164497658,-0.9322086654298943,null],\"y\":[0.047552882965828595,0.05873598468854075,null],\"type\":\"scatter\"},{\"hoverinfo\":\"text\",\"line\":{\"color\":\"cornflowerblue\",\"width\":0.3},\"mode\":\"lines\",\"text\":[\"GENERAL GRIEVOUS--NUTE GUNRAY: 1\"],\"x\":[-0.08013439782404864,-0.3253682436966259,null],\"y\":[0.5690623370794892,0.7861780535760952,null],\"type\":\"scatter\"},{\"hoverinfo\":\"text\",\"line\":{\"color\":\"cornflowerblue\",\"width\":2.0515563512592996},\"mode\":\"lines\",\"text\":[\"BAIL ORGANA--C-3PO: 3\"],\"x\":[0.04321012865482687,0.1494198312083518,null],\"y\":[-0.1994727498347485,-0.15296959554480316,null],\"type\":\"scatter\"},{\"hoverinfo\":\"text\",\"line\":{\"color\":\"cornflowerblue\",\"width\":5.015552287323165},\"mode\":\"lines\",\"text\":[\"BAIL ORGANA--PADME: 5\"],\"x\":[0.04321012865482687,-0.08030266592952927,null],\"y\":[-0.1994727498347485,-0.16106447068392038,null],\"type\":\"scatter\"},{\"hoverinfo\":\"text\",\"line\":{\"color\":\"cornflowerblue\",\"width\":1.0090756983044573},\"mode\":\"lines\",\"text\":[\"BAIL ORGANA--FANG ZAR: 2\"],\"x\":[0.04321012865482687,-0.3781677192021514,null],\"y\":[-0.1994727498347485,-0.3830152697144778,null],\"type\":\"scatter\"},{\"hoverinfo\":\"text\",\"line\":{\"color\":\"cornflowerblue\",\"width\":1.0090756983044573},\"mode\":\"lines\",\"text\":[\"BAIL ORGANA--MON MOTHMA: 2\"],\"x\":[0.04321012865482687,-0.23790064698346625,null],\"y\":[-0.1994727498347485,-0.5040066263788597,null],\"type\":\"scatter\"},{\"hoverinfo\":\"text\",\"line\":{\"color\":\"cornflowerblue\",\"width\":0.3},\"mode\":\"lines\",\"text\":[\"BAIL ORGANA--GIDDEAN DANU: 1\"],\"x\":[0.04321012865482687,-0.384864444469884,null],\"y\":[-0.1994727498347485,-0.6620061707137863,null],\"type\":\"scatter\"},{\"hoverinfo\":\"text\",\"line\":{\"color\":\"cornflowerblue\",\"width\":1.0090756983044573},\"mode\":\"lines\",\"text\":[\"BAIL ORGANA--CAPTAIN ANTILLES: 2\"],\"x\":[0.04321012865482687,0.32258876767299904,null],\"y\":[-0.1994727498347485,-0.631932496993195,null],\"type\":\"scatter\"},{\"hoverinfo\":\"text\",\"line\":{\"color\":\"cornflowerblue\",\"width\":6.900585525859743},\"mode\":\"lines\",\"text\":[\"BAIL ORGANA--YODA: 6\"],\"x\":[0.04321012865482687,0.2652184866149197,null],\"y\":[-0.1994727498347485,0.05957045979358399,null],\"type\":\"scatter\"},{\"hoverinfo\":\"text\",\"line\":{\"color\":\"cornflowerblue\",\"width\":0.3},\"mode\":\"lines\",\"text\":[\"BAIL ORGANA--QUI-GON: 1\"],\"x\":[0.04321012865482687,0.6910611208941942,null],\"y\":[-0.1994727498347485,-0.2600307218750894,null],\"type\":\"scatter\"},{\"hoverinfo\":\"text\",\"line\":{\"color\":\"cornflowerblue\",\"width\":5.015552287323165},\"mode\":\"lines\",\"text\":[\"C-3PO--PADME: 5\"],\"x\":[0.1494198312083518,-0.08030266592952927,null],\"y\":[-0.15296959554480316,-0.16106447068392038,null],\"type\":\"scatter\"},{\"hoverinfo\":\"text\",\"line\":{\"color\":\"cornflowerblue\",\"width\":1.0090756983044573},\"mode\":\"lines\",\"text\":[\"C-3PO--CAPTAIN TYPHO: 2\"],\"x\":[0.1494198312083518,0.27984645292575483,null],\"y\":[-0.15296959554480316,-0.36573796679273796,null],\"type\":\"scatter\"},{\"hoverinfo\":\"text\",\"line\":{\"color\":\"cornflowerblue\",\"width\":0.3},\"mode\":\"lines\",\"text\":[\"C-3PO--YODA: 1\"],\"x\":[0.1494198312083518,0.2652184866149197,null],\"y\":[-0.15296959554480316,0.05957045979358399,null],\"type\":\"scatter\"},{\"hoverinfo\":\"text\",\"line\":{\"color\":\"cornflowerblue\",\"width\":0.3},\"mode\":\"lines\",\"text\":[\"C-3PO--CAPTAIN ANTILLES: 1\"],\"x\":[0.1494198312083518,0.32258876767299904,null],\"y\":[-0.15296959554480316,-0.631932496993195,null],\"type\":\"scatter\"},{\"hoverinfo\":\"text\",\"line\":{\"color\":\"cornflowerblue\",\"width\":1.0090756983044573},\"mode\":\"lines\",\"text\":[\"PADME--FANG ZAR: 2\"],\"x\":[-0.08030266592952927,-0.3781677192021514,null],\"y\":[-0.16106447068392038,-0.3830152697144778,null],\"type\":\"scatter\"},{\"hoverinfo\":\"text\",\"line\":{\"color\":\"cornflowerblue\",\"width\":1.0090756983044573},\"mode\":\"lines\",\"text\":[\"PADME--MON MOTHMA: 2\"],\"x\":[-0.08030266592952927,-0.23790064698346625,null],\"y\":[-0.16106447068392038,-0.5040066263788597,null],\"type\":\"scatter\"},{\"hoverinfo\":\"text\",\"line\":{\"color\":\"cornflowerblue\",\"width\":0.3},\"mode\":\"lines\",\"text\":[\"PADME--GIDDEAN DANU: 1\"],\"x\":[-0.08030266592952927,-0.384864444469884,null],\"y\":[-0.16106447068392038,-0.6620061707137863,null],\"type\":\"scatter\"},{\"hoverinfo\":\"text\",\"line\":{\"color\":\"cornflowerblue\",\"width\":1.0090756983044573},\"mode\":\"lines\",\"text\":[\"PADME--CAPTAIN TYPHO: 2\"],\"x\":[-0.08030266592952927,0.27984645292575483,null],\"y\":[-0.16106447068392038,-0.36573796679273796,null],\"type\":\"scatter\"},{\"hoverinfo\":\"text\",\"line\":{\"color\":\"cornflowerblue\",\"width\":3.394112549695428},\"mode\":\"lines\",\"text\":[\"YODA--MACE WINDU: 4\"],\"x\":[0.2652184866149197,0.14997715862405234,null],\"y\":[0.05957045979358399,0.2573680222715611,null],\"type\":\"scatter\"},{\"hoverinfo\":\"text\",\"line\":{\"color\":\"cornflowerblue\",\"width\":0.3},\"mode\":\"lines\",\"text\":[\"YODA--CLONE COMMANDER GREE: 1\"],\"x\":[0.2652184866149197,1.0,null],\"y\":[0.05957045979358399,0.2684915746257014,null],\"type\":\"scatter\"},{\"hoverinfo\":\"text\",\"line\":{\"color\":\"cornflowerblue\",\"width\":0.3},\"mode\":\"lines\",\"text\":[\"YODA--CLONE COMMANDER CODY: 1\"],\"x\":[0.2652184866149197,0.25598003603906094,null],\"y\":[0.05957045979358399,0.4726230642896346,null],\"type\":\"scatter\"},{\"hoverinfo\":\"text\",\"line\":{\"color\":\"cornflowerblue\",\"width\":0.3},\"mode\":\"lines\",\"text\":[\"YODA--QUI-GON: 1\"],\"x\":[0.2652184866149197,0.6910611208941942,null],\"y\":[0.05957045979358399,-0.2600307218750894,null],\"type\":\"scatter\"},{\"hoverinfo\":\"text\",\"line\":{\"color\":\"cornflowerblue\",\"width\":1.0090756983044573},\"mode\":\"lines\",\"text\":[\"FANG ZAR--MON MOTHMA: 2\"],\"x\":[-0.3781677192021514,-0.23790064698346625,null],\"y\":[-0.3830152697144778,-0.5040066263788597,null],\"type\":\"scatter\"},{\"hoverinfo\":\"text\",\"line\":{\"color\":\"cornflowerblue\",\"width\":0.3},\"mode\":\"lines\",\"text\":[\"FANG ZAR--GIDDEAN DANU: 1\"],\"x\":[-0.3781677192021514,-0.384864444469884,null],\"y\":[-0.3830152697144778,-0.6620061707137863,null],\"type\":\"scatter\"},{\"hoverinfo\":\"text\",\"line\":{\"color\":\"cornflowerblue\",\"width\":0.3},\"mode\":\"lines\",\"text\":[\"MON MOTHMA--GIDDEAN DANU: 1\"],\"x\":[-0.23790064698346625,-0.384864444469884,null],\"y\":[-0.5040066263788597,-0.6620061707137863,null],\"type\":\"scatter\"},{\"hoverinfo\":\"text\",\"line\":{\"color\":\"cornflowerblue\",\"width\":0.3},\"mode\":\"lines\",\"text\":[\"MACE WINDU--CLONE COMMANDER CODY: 1\"],\"x\":[0.14997715862405234,0.25598003603906094,null],\"y\":[0.2573680222715611,0.4726230642896346,null],\"type\":\"scatter\"},{\"marker\":{\"color\":[\"red\"],\"size\":21},\"mode\":\"markers+text\",\"text\":[\"<b>ANAKIN</b>\"],\"textfont\":{\"size\":10},\"textposition\":\"top center\",\"x\":[0.025730412738982272],\"y\":[0.04042048741718695],\"type\":\"scatter\"},{\"marker\":{\"color\":[\"red\"],\"size\":21},\"mode\":\"markers+text\",\"text\":[\"<b>OBI-WAN</b>\"],\"textfont\":{\"size\":10},\"textposition\":\"top center\",\"x\":[0.034049608708451064],\"y\":[0.12492224104314992],\"type\":\"scatter\"},{\"marker\":{\"color\":[\"red\"],\"size\":1},\"mode\":\"markers+text\",\"text\":[\"<b>ODD BALL</b>\"],\"textfont\":{\"size\":10},\"textposition\":\"top center\",\"x\":[0.41515606139459893],\"y\":[0.2952464156985468],\"type\":\"scatter\"},{\"marker\":{\"color\":[\"red\"],\"size\":20},\"mode\":\"markers+text\",\"text\":[\"<b>EMPEROR</b>\"],\"textfont\":{\"size\":10},\"textposition\":\"top center\",\"x\":[-0.16951060164497658],\"y\":[0.047552882965828595],\"type\":\"scatter\"},{\"marker\":{\"color\":[\"red\"],\"size\":1},\"mode\":\"markers+text\",\"text\":[\"<b>COUNT DOOKU</b>\"],\"textfont\":{\"size\":10},\"textposition\":\"top center\",\"x\":[-0.4314601042605689],\"y\":[0.25549862723152317],\"type\":\"scatter\"},{\"marker\":{\"color\":[\"red\"],\"size\":1},\"mode\":\"markers+text\",\"text\":[\"<b>GENERAL GRIEVOUS</b>\"],\"textfont\":{\"size\":10},\"textposition\":\"top center\",\"x\":[-0.08013439782404864],\"y\":[0.5690623370794892],\"type\":\"scatter\"},{\"marker\":{\"color\":[\"red\"],\"size\":22},\"mode\":\"markers+text\",\"text\":[\"<b>BAIL ORGANA</b>\"],\"textfont\":{\"size\":10},\"textposition\":\"top center\",\"x\":[0.04321012865482687],\"y\":[-0.1994727498347485],\"type\":\"scatter\"},{\"marker\":{\"color\":[\"red\"],\"size\":5},\"mode\":\"markers+text\",\"text\":[\"<b>C-3PO</b>\"],\"textfont\":{\"size\":10},\"textposition\":\"top center\",\"x\":[0.1494198312083518],\"y\":[-0.15296959554480316],\"type\":\"scatter\"},{\"marker\":{\"color\":[\"red\"],\"size\":10},\"mode\":\"markers+text\",\"text\":[\"<b>PADME</b>\"],\"textfont\":{\"size\":10},\"textposition\":\"top center\",\"x\":[-0.08030266592952927],\"y\":[-0.16106447068392038],\"type\":\"scatter\"},{\"marker\":{\"color\":[\"red\"],\"size\":12},\"mode\":\"markers+text\",\"text\":[\"<b>YODA</b>\"],\"textfont\":{\"size\":10},\"textposition\":\"top center\",\"x\":[0.2652184866149197],\"y\":[0.05957045979358399],\"type\":\"scatter\"},{\"marker\":{\"color\":[\"red\"],\"size\":1},\"mode\":\"markers+text\",\"text\":[\"<b>FANG ZAR</b>\"],\"textfont\":{\"size\":10},\"textposition\":\"top center\",\"x\":[-0.3781677192021514],\"y\":[-0.3830152697144778],\"type\":\"scatter\"},{\"marker\":{\"color\":[\"red\"],\"size\":1},\"mode\":\"markers+text\",\"text\":[\"<b>MON MOTHMA</b>\"],\"textfont\":{\"size\":10},\"textposition\":\"top center\",\"x\":[-0.23790064698346625],\"y\":[-0.5040066263788597],\"type\":\"scatter\"},{\"marker\":{\"color\":[\"red\"],\"size\":1},\"mode\":\"markers+text\",\"text\":[\"<b>GIDDEAN DANU</b>\"],\"textfont\":{\"size\":10},\"textposition\":\"top center\",\"x\":[-0.384864444469884],\"y\":[-0.6620061707137863],\"type\":\"scatter\"},{\"marker\":{\"color\":[\"red\"],\"size\":1},\"mode\":\"markers+text\",\"text\":[\"<b>MACE WINDU</b>\"],\"textfont\":{\"size\":10},\"textposition\":\"top center\",\"x\":[0.14997715862405234],\"y\":[0.2573680222715611],\"type\":\"scatter\"},{\"marker\":{\"color\":[\"red\"],\"size\":1},\"mode\":\"markers+text\",\"text\":[\"<b>CAPTAIN TYPHO</b>\"],\"textfont\":{\"size\":10},\"textposition\":\"top center\",\"x\":[0.27984645292575483],\"y\":[-0.36573796679273796],\"type\":\"scatter\"},{\"marker\":{\"color\":[\"red\"],\"size\":1},\"mode\":\"markers+text\",\"text\":[\"<b>CLONE COMMANDER GREE</b>\"],\"textfont\":{\"size\":10},\"textposition\":\"top center\",\"x\":[1.0],\"y\":[0.2684915746257014],\"type\":\"scatter\"},{\"marker\":{\"color\":[\"red\"],\"size\":1},\"mode\":\"markers+text\",\"text\":[\"<b>CLONE COMMANDER CODY</b>\"],\"textfont\":{\"size\":10},\"textposition\":\"top center\",\"x\":[0.25598003603906094],\"y\":[0.4726230642896346],\"type\":\"scatter\"},{\"marker\":{\"color\":[\"red\"],\"size\":1},\"mode\":\"markers+text\",\"text\":[\"<b>JAR JAR</b>\"],\"textfont\":{\"size\":10},\"textposition\":\"top center\",\"x\":[-0.0322302738223447],\"y\":[-0.5484648822490905],\"type\":\"scatter\"},{\"marker\":{\"color\":[\"red\"],\"size\":1},\"mode\":\"markers+text\",\"text\":[\"<b>TION MEDON</b>\"],\"textfont\":{\"size\":10},\"textposition\":\"top center\",\"x\":[-0.5800903022127052],\"y\":[0.6330308000998668],\"type\":\"scatter\"},{\"marker\":{\"color\":[\"red\"],\"size\":1},\"mode\":\"markers+text\",\"text\":[\"<b>NUTE GUNRAY</b>\"],\"textfont\":{\"size\":10},\"textposition\":\"top center\",\"x\":[-0.3253682436966259],\"y\":[0.7861780535760952],\"type\":\"scatter\"},{\"marker\":{\"color\":[\"red\"],\"size\":1},\"mode\":\"markers+text\",\"text\":[\"<b>CAPTAIN ANTILLES</b>\"],\"textfont\":{\"size\":10},\"textposition\":\"top center\",\"x\":[0.32258876767299904],\"y\":[-0.631932496993195],\"type\":\"scatter\"},{\"marker\":{\"color\":[\"red\"],\"size\":1},\"mode\":\"markers+text\",\"text\":[\"<b>QUI-GON</b>\"],\"textfont\":{\"size\":10},\"textposition\":\"top center\",\"x\":[0.6910611208941942],\"y\":[-0.2600307218750894],\"type\":\"scatter\"},{\"marker\":{\"color\":[\"red\"],\"size\":1},\"mode\":\"markers+text\",\"text\":[\"<b>DARTH VADER</b>\"],\"textfont\":{\"size\":10},\"textposition\":\"top center\",\"x\":[-0.9322086654298943],\"y\":[0.05873598468854075],\"type\":\"scatter\"}],                        {\"paper_bgcolor\":\"rgba(0,0,0,0)\",\"plot_bgcolor\":\"rgba(0,0,0,0)\",\"xaxis\":{\"showgrid\":false,\"zeroline\":false,\"showticklabels\":false},\"yaxis\":{\"showgrid\":false,\"zeroline\":false,\"showticklabels\":false},\"template\":{\"data\":{\"bar\":[{\"error_x\":{\"color\":\"#2a3f5f\"},\"error_y\":{\"color\":\"#2a3f5f\"},\"marker\":{\"line\":{\"color\":\"#E5ECF6\",\"width\":0.5},\"pattern\":{\"fillmode\":\"overlay\",\"size\":10,\"solidity\":0.2}},\"type\":\"bar\"}],\"barpolar\":[{\"marker\":{\"line\":{\"color\":\"#E5ECF6\",\"width\":0.5},\"pattern\":{\"fillmode\":\"overlay\",\"size\":10,\"solidity\":0.2}},\"type\":\"barpolar\"}],\"carpet\":[{\"aaxis\":{\"endlinecolor\":\"#2a3f5f\",\"gridcolor\":\"white\",\"linecolor\":\"white\",\"minorgridcolor\":\"white\",\"startlinecolor\":\"#2a3f5f\"},\"baxis\":{\"endlinecolor\":\"#2a3f5f\",\"gridcolor\":\"white\",\"linecolor\":\"white\",\"minorgridcolor\":\"white\",\"startlinecolor\":\"#2a3f5f\"},\"type\":\"carpet\"}],\"choropleth\":[{\"colorbar\":{\"outlinewidth\":0,\"ticks\":\"\"},\"type\":\"choropleth\"}],\"contour\":[{\"colorbar\":{\"outlinewidth\":0,\"ticks\":\"\"},\"colorscale\":[[0.0,\"#0d0887\"],[0.1111111111111111,\"#46039f\"],[0.2222222222222222,\"#7201a8\"],[0.3333333333333333,\"#9c179e\"],[0.4444444444444444,\"#bd3786\"],[0.5555555555555556,\"#d8576b\"],[0.6666666666666666,\"#ed7953\"],[0.7777777777777778,\"#fb9f3a\"],[0.8888888888888888,\"#fdca26\"],[1.0,\"#f0f921\"]],\"type\":\"contour\"}],\"contourcarpet\":[{\"colorbar\":{\"outlinewidth\":0,\"ticks\":\"\"},\"type\":\"contourcarpet\"}],\"heatmap\":[{\"colorbar\":{\"outlinewidth\":0,\"ticks\":\"\"},\"colorscale\":[[0.0,\"#0d0887\"],[0.1111111111111111,\"#46039f\"],[0.2222222222222222,\"#7201a8\"],[0.3333333333333333,\"#9c179e\"],[0.4444444444444444,\"#bd3786\"],[0.5555555555555556,\"#d8576b\"],[0.6666666666666666,\"#ed7953\"],[0.7777777777777778,\"#fb9f3a\"],[0.8888888888888888,\"#fdca26\"],[1.0,\"#f0f921\"]],\"type\":\"heatmap\"}],\"heatmapgl\":[{\"colorbar\":{\"outlinewidth\":0,\"ticks\":\"\"},\"colorscale\":[[0.0,\"#0d0887\"],[0.1111111111111111,\"#46039f\"],[0.2222222222222222,\"#7201a8\"],[0.3333333333333333,\"#9c179e\"],[0.4444444444444444,\"#bd3786\"],[0.5555555555555556,\"#d8576b\"],[0.6666666666666666,\"#ed7953\"],[0.7777777777777778,\"#fb9f3a\"],[0.8888888888888888,\"#fdca26\"],[1.0,\"#f0f921\"]],\"type\":\"heatmapgl\"}],\"histogram\":[{\"marker\":{\"pattern\":{\"fillmode\":\"overlay\",\"size\":10,\"solidity\":0.2}},\"type\":\"histogram\"}],\"histogram2d\":[{\"colorbar\":{\"outlinewidth\":0,\"ticks\":\"\"},\"colorscale\":[[0.0,\"#0d0887\"],[0.1111111111111111,\"#46039f\"],[0.2222222222222222,\"#7201a8\"],[0.3333333333333333,\"#9c179e\"],[0.4444444444444444,\"#bd3786\"],[0.5555555555555556,\"#d8576b\"],[0.6666666666666666,\"#ed7953\"],[0.7777777777777778,\"#fb9f3a\"],[0.8888888888888888,\"#fdca26\"],[1.0,\"#f0f921\"]],\"type\":\"histogram2d\"}],\"histogram2dcontour\":[{\"colorbar\":{\"outlinewidth\":0,\"ticks\":\"\"},\"colorscale\":[[0.0,\"#0d0887\"],[0.1111111111111111,\"#46039f\"],[0.2222222222222222,\"#7201a8\"],[0.3333333333333333,\"#9c179e\"],[0.4444444444444444,\"#bd3786\"],[0.5555555555555556,\"#d8576b\"],[0.6666666666666666,\"#ed7953\"],[0.7777777777777778,\"#fb9f3a\"],[0.8888888888888888,\"#fdca26\"],[1.0,\"#f0f921\"]],\"type\":\"histogram2dcontour\"}],\"mesh3d\":[{\"colorbar\":{\"outlinewidth\":0,\"ticks\":\"\"},\"type\":\"mesh3d\"}],\"parcoords\":[{\"line\":{\"colorbar\":{\"outlinewidth\":0,\"ticks\":\"\"}},\"type\":\"parcoords\"}],\"pie\":[{\"automargin\":true,\"type\":\"pie\"}],\"scatter\":[{\"marker\":{\"colorbar\":{\"outlinewidth\":0,\"ticks\":\"\"}},\"type\":\"scatter\"}],\"scatter3d\":[{\"line\":{\"colorbar\":{\"outlinewidth\":0,\"ticks\":\"\"}},\"marker\":{\"colorbar\":{\"outlinewidth\":0,\"ticks\":\"\"}},\"type\":\"scatter3d\"}],\"scattercarpet\":[{\"marker\":{\"colorbar\":{\"outlinewidth\":0,\"ticks\":\"\"}},\"type\":\"scattercarpet\"}],\"scattergeo\":[{\"marker\":{\"colorbar\":{\"outlinewidth\":0,\"ticks\":\"\"}},\"type\":\"scattergeo\"}],\"scattergl\":[{\"marker\":{\"colorbar\":{\"outlinewidth\":0,\"ticks\":\"\"}},\"type\":\"scattergl\"}],\"scattermapbox\":[{\"marker\":{\"colorbar\":{\"outlinewidth\":0,\"ticks\":\"\"}},\"type\":\"scattermapbox\"}],\"scatterpolar\":[{\"marker\":{\"colorbar\":{\"outlinewidth\":0,\"ticks\":\"\"}},\"type\":\"scatterpolar\"}],\"scatterpolargl\":[{\"marker\":{\"colorbar\":{\"outlinewidth\":0,\"ticks\":\"\"}},\"type\":\"scatterpolargl\"}],\"scatterternary\":[{\"marker\":{\"colorbar\":{\"outlinewidth\":0,\"ticks\":\"\"}},\"type\":\"scatterternary\"}],\"surface\":[{\"colorbar\":{\"outlinewidth\":0,\"ticks\":\"\"},\"colorscale\":[[0.0,\"#0d0887\"],[0.1111111111111111,\"#46039f\"],[0.2222222222222222,\"#7201a8\"],[0.3333333333333333,\"#9c179e\"],[0.4444444444444444,\"#bd3786\"],[0.5555555555555556,\"#d8576b\"],[0.6666666666666666,\"#ed7953\"],[0.7777777777777778,\"#fb9f3a\"],[0.8888888888888888,\"#fdca26\"],[1.0,\"#f0f921\"]],\"type\":\"surface\"}],\"table\":[{\"cells\":{\"fill\":{\"color\":\"#EBF0F8\"},\"line\":{\"color\":\"white\"}},\"header\":{\"fill\":{\"color\":\"#C8D4E3\"},\"line\":{\"color\":\"white\"}},\"type\":\"table\"}]},\"layout\":{\"annotationdefaults\":{\"arrowcolor\":\"#2a3f5f\",\"arrowhead\":0,\"arrowwidth\":1},\"autotypenumbers\":\"strict\",\"coloraxis\":{\"colorbar\":{\"outlinewidth\":0,\"ticks\":\"\"}},\"colorscale\":{\"diverging\":[[0,\"#8e0152\"],[0.1,\"#c51b7d\"],[0.2,\"#de77ae\"],[0.3,\"#f1b6da\"],[0.4,\"#fde0ef\"],[0.5,\"#f7f7f7\"],[0.6,\"#e6f5d0\"],[0.7,\"#b8e186\"],[0.8,\"#7fbc41\"],[0.9,\"#4d9221\"],[1,\"#276419\"]],\"sequential\":[[0.0,\"#0d0887\"],[0.1111111111111111,\"#46039f\"],[0.2222222222222222,\"#7201a8\"],[0.3333333333333333,\"#9c179e\"],[0.4444444444444444,\"#bd3786\"],[0.5555555555555556,\"#d8576b\"],[0.6666666666666666,\"#ed7953\"],[0.7777777777777778,\"#fb9f3a\"],[0.8888888888888888,\"#fdca26\"],[1.0,\"#f0f921\"]],\"sequentialminus\":[[0.0,\"#0d0887\"],[0.1111111111111111,\"#46039f\"],[0.2222222222222222,\"#7201a8\"],[0.3333333333333333,\"#9c179e\"],[0.4444444444444444,\"#bd3786\"],[0.5555555555555556,\"#d8576b\"],[0.6666666666666666,\"#ed7953\"],[0.7777777777777778,\"#fb9f3a\"],[0.8888888888888888,\"#fdca26\"],[1.0,\"#f0f921\"]]},\"colorway\":[\"#636efa\",\"#EF553B\",\"#00cc96\",\"#ab63fa\",\"#FFA15A\",\"#19d3f3\",\"#FF6692\",\"#B6E880\",\"#FF97FF\",\"#FECB52\"],\"font\":{\"color\":\"#2a3f5f\"},\"geo\":{\"bgcolor\":\"white\",\"lakecolor\":\"white\",\"landcolor\":\"#E5ECF6\",\"showlakes\":true,\"showland\":true,\"subunitcolor\":\"white\"},\"hoverlabel\":{\"align\":\"left\"},\"hovermode\":\"closest\",\"mapbox\":{\"style\":\"light\"},\"paper_bgcolor\":\"white\",\"plot_bgcolor\":\"#E5ECF6\",\"polar\":{\"angularaxis\":{\"gridcolor\":\"white\",\"linecolor\":\"white\",\"ticks\":\"\"},\"bgcolor\":\"#E5ECF6\",\"radialaxis\":{\"gridcolor\":\"white\",\"linecolor\":\"white\",\"ticks\":\"\"}},\"scene\":{\"xaxis\":{\"backgroundcolor\":\"#E5ECF6\",\"gridcolor\":\"white\",\"gridwidth\":2,\"linecolor\":\"white\",\"showbackground\":true,\"ticks\":\"\",\"zerolinecolor\":\"white\"},\"yaxis\":{\"backgroundcolor\":\"#E5ECF6\",\"gridcolor\":\"white\",\"gridwidth\":2,\"linecolor\":\"white\",\"showbackground\":true,\"ticks\":\"\",\"zerolinecolor\":\"white\"},\"zaxis\":{\"backgroundcolor\":\"#E5ECF6\",\"gridcolor\":\"white\",\"gridwidth\":2,\"linecolor\":\"white\",\"showbackground\":true,\"ticks\":\"\",\"zerolinecolor\":\"white\"}},\"shapedefaults\":{\"line\":{\"color\":\"#2a3f5f\"}},\"ternary\":{\"aaxis\":{\"gridcolor\":\"white\",\"linecolor\":\"white\",\"ticks\":\"\"},\"baxis\":{\"gridcolor\":\"white\",\"linecolor\":\"white\",\"ticks\":\"\"},\"bgcolor\":\"#E5ECF6\",\"caxis\":{\"gridcolor\":\"white\",\"linecolor\":\"white\",\"ticks\":\"\"}},\"title\":{\"x\":0.05},\"xaxis\":{\"automargin\":true,\"gridcolor\":\"white\",\"linecolor\":\"white\",\"ticks\":\"\",\"title\":{\"standoff\":15},\"zerolinecolor\":\"white\",\"zerolinewidth\":2},\"yaxis\":{\"automargin\":true,\"gridcolor\":\"white\",\"linecolor\":\"white\",\"ticks\":\"\",\"title\":{\"standoff\":15},\"zerolinecolor\":\"white\",\"zerolinewidth\":2}}},\"showlegend\":false},                        {\"responsive\": true}                    ).then(function(){\n",
       "                            \n",
       "var gd = document.getElementById('9b46d612-a5b9-4ce4-9f83-29f60c885758');\n",
       "var x = new MutationObserver(function (mutations, observer) {{\n",
       "        var display = window.getComputedStyle(gd).display;\n",
       "        if (!display || display === 'none') {{\n",
       "            console.log([gd, 'removed!']);\n",
       "            Plotly.purge(gd);\n",
       "            observer.disconnect();\n",
       "        }}\n",
       "}});\n",
       "\n",
       "// Listen for the removal of the full notebook cells\n",
       "var notebookContainer = gd.closest('#notebook-container');\n",
       "if (notebookContainer) {{\n",
       "    x.observe(notebookContainer, {childList: true});\n",
       "}}\n",
       "\n",
       "// Listen for the clearing of the current output cell\n",
       "var outputEl = gd.closest('.output');\n",
       "if (outputEl) {{\n",
       "    x.observe(outputEl, {childList: true});\n",
       "}}\n",
       "\n",
       "                        })                };                            </script>        </div>\n",
       "</body>\n",
       "</html>"
      ]
     },
     "metadata": {},
     "output_type": "display_data"
    }
   ],
   "source": [
    "draw_plotly_graph(star_wars_graph, betweenness_centrality)"
   ]
  },
  {
   "cell_type": "markdown",
   "metadata": {
    "id": "nOMJDPAvsJ2b"
   },
   "source": [
    "https://dev.vk.com"
   ]
  },
  {
   "cell_type": "markdown",
   "metadata": {
    "id": "BX9Psy-edk3i"
   },
   "source": [
    "The following won't work without vk access token"
   ]
  },
  {
   "cell_type": "code",
   "execution_count": null,
   "metadata": {
    "id": "OIjxCLY8iULd"
   },
   "outputs": [],
   "source": [
    "request_str = f\"https://api.vk.com/method/friends.get?user_id=577497926&fields=nicknames&v=5.131&access_token={ACCESS_TOKEN}\" "
   ]
  },
  {
   "cell_type": "code",
   "execution_count": null,
   "metadata": {
    "id": "EWiYVdCXiULd"
   },
   "outputs": [],
   "source": [
    "r = requests.get(request_str)"
   ]
  },
  {
   "cell_type": "code",
   "execution_count": null,
   "metadata": {
    "id": "7JZ_iFX-iULd"
   },
   "outputs": [],
   "source": [
    "response = r.json()\n",
    "response"
   ]
  },
  {
   "cell_type": "code",
   "execution_count": null,
   "metadata": {
    "id": "N5PrfakyiULe"
   },
   "outputs": [],
   "source": [
    "response_items = response['response']['items']"
   ]
  },
  {
   "cell_type": "code",
   "execution_count": null,
   "metadata": {
    "id": "k7giU5sSiULe"
   },
   "outputs": [],
   "source": [
    "social_graph = nx.Graph()\n",
    "for item in response_items:\n",
    "    social_graph.add_edge('Maria Schneider', item['first_name'] + ' ' + item['last_name'],\n",
    "                              weight=1)"
   ]
  },
  {
   "cell_type": "code",
   "execution_count": null,
   "metadata": {
    "id": "mj56HUvgiULe"
   },
   "outputs": [],
   "source": [
    "nx.draw(social_graph, with_labels=True, font_weight='bold')"
   ]
  },
  {
   "cell_type": "code",
   "execution_count": null,
   "metadata": {
    "id": "H2hgTxi_iULe"
   },
   "outputs": [],
   "source": [
    "def get_friends(item, depth, social_graph):\n",
    "    if depth < 3:\n",
    "        name = item['first_name'] + ' ' + item['last_name']\n",
    "        request_str = f\"https://api.vk.com/method/friends.get?user_id={item['id']}&count=50&access_token={ACCESS_TOKEN}&v=5.131&fields=nickname\"\n",
    "        r = requests.get(request_str)\n",
    "        response = r.json()\n",
    "        if response.get('response') is not None:\n",
    "            depth = depth + 1\n",
    "            for r_item in response['response']['items']:\n",
    "                social_graph.add_edge(name, r_item['first_name'] + ' ' + r_item['last_name'],\n",
    "                                          weight=1)\n",
    "                depth, social_graph = get_friends(r_item, depth, social_graph)\n",
    "        sleep(0.3)\n",
    "    return depth, social_graph"
   ]
  },
  {
   "cell_type": "code",
   "execution_count": null,
   "metadata": {
    "id": "c3w3fw0AiULf"
   },
   "outputs": [],
   "source": [
    "for item in tqdm(response_items):\n",
    "    depth, social_graph = get_friends(item, 1, social_graph)"
   ]
  },
  {
   "cell_type": "code",
   "execution_count": null,
   "metadata": {
    "id": "xgYe7OxliULf"
   },
   "outputs": [],
   "source": [
    "nx.draw(social_graph, with_labels=True, font_weight='bold')"
   ]
  },
  {
   "cell_type": "code",
   "execution_count": null,
   "metadata": {
    "id": "oCqr8Y7diULf"
   },
   "outputs": [],
   "source": [
    "len(list(nx.connected_components(social_graph))[0])"
   ]
  },
  {
   "cell_type": "code",
   "execution_count": null,
   "metadata": {
    "id": "j_QWl-WaiULf"
   },
   "outputs": [],
   "source": [
    "depth"
   ]
  },
  {
   "cell_type": "code",
   "execution_count": null,
   "metadata": {
    "collapsed": true,
    "id": "xzvoMUSqiULf"
   },
   "outputs": [],
   "source": [
    "betweenness_centrality = nx.betweenness_centrality(social_graph)\n",
    "draw_plotly_graph(social_graph, betweenness_centrality)"
   ]
  }
 ],
 "metadata": {
  "colab": {
   "collapsed_sections": [],
   "name": "social_networks.ipynb",
   "provenance": []
  },
  "gpuClass": "standard",
  "kernelspec": {
   "display_name": "Python 3",
   "language": "python",
   "name": "python3"
  },
  "language_info": {
   "codemirror_mode": {
    "name": "ipython",
    "version": 3
   },
   "file_extension": ".py",
   "mimetype": "text/x-python",
   "name": "python",
   "nbconvert_exporter": "python",
   "pygments_lexer": "ipython3",
   "version": "3.7.10"
  },
  "widgets": {
   "application/vnd.jupyter.widget-state+json": {
    "10ef518e212744b582b5d6f670f08f8a": {
     "model_module": "@jupyter-widgets/controls",
     "model_module_version": "1.5.0",
     "model_name": "FloatProgressModel",
     "state": {
      "_dom_classes": [],
      "_model_module": "@jupyter-widgets/controls",
      "_model_module_version": "1.5.0",
      "_model_name": "FloatProgressModel",
      "_view_count": null,
      "_view_module": "@jupyter-widgets/controls",
      "_view_module_version": "1.5.0",
      "_view_name": "ProgressView",
      "bar_style": "success",
      "description": "",
      "description_tooltip": null,
      "layout": "IPY_MODEL_820a5fe143134c51b695048d6023122d",
      "max": 57,
      "min": 0,
      "orientation": "horizontal",
      "style": "IPY_MODEL_4c09b01b452a49bd89d00a6e168a5246",
      "value": 57
     }
    },
    "3a36760b5a2e458c8030af60d8f43000": {
     "model_module": "@jupyter-widgets/controls",
     "model_module_version": "1.5.0",
     "model_name": "HTMLModel",
     "state": {
      "_dom_classes": [],
      "_model_module": "@jupyter-widgets/controls",
      "_model_module_version": "1.5.0",
      "_model_name": "HTMLModel",
      "_view_count": null,
      "_view_module": "@jupyter-widgets/controls",
      "_view_module_version": "1.5.0",
      "_view_name": "HTMLView",
      "description": "",
      "description_tooltip": null,
      "layout": "IPY_MODEL_5dd6d814f36c448b83c12f6b539cc10d",
      "placeholder": "​",
      "style": "IPY_MODEL_9b24be5ac06f49ed90705bf438613a13",
      "value": " 57/57 [00:00&lt;00:00, 709.72it/s]"
     }
    },
    "3acbbbdee1274208b789924abf63969f": {
     "model_module": "@jupyter-widgets/base",
     "model_module_version": "1.2.0",
     "model_name": "LayoutModel",
     "state": {
      "_model_module": "@jupyter-widgets/base",
      "_model_module_version": "1.2.0",
      "_model_name": "LayoutModel",
      "_view_count": null,
      "_view_module": "@jupyter-widgets/base",
      "_view_module_version": "1.2.0",
      "_view_name": "LayoutView",
      "align_content": null,
      "align_items": null,
      "align_self": null,
      "border": null,
      "bottom": null,
      "display": null,
      "flex": null,
      "flex_flow": null,
      "grid_area": null,
      "grid_auto_columns": null,
      "grid_auto_flow": null,
      "grid_auto_rows": null,
      "grid_column": null,
      "grid_gap": null,
      "grid_row": null,
      "grid_template_areas": null,
      "grid_template_columns": null,
      "grid_template_rows": null,
      "height": null,
      "justify_content": null,
      "justify_items": null,
      "left": null,
      "margin": null,
      "max_height": null,
      "max_width": null,
      "min_height": null,
      "min_width": null,
      "object_fit": null,
      "object_position": null,
      "order": null,
      "overflow": null,
      "overflow_x": null,
      "overflow_y": null,
      "padding": null,
      "right": null,
      "top": null,
      "visibility": null,
      "width": null
     }
    },
    "4c09b01b452a49bd89d00a6e168a5246": {
     "model_module": "@jupyter-widgets/controls",
     "model_module_version": "1.5.0",
     "model_name": "ProgressStyleModel",
     "state": {
      "_model_module": "@jupyter-widgets/controls",
      "_model_module_version": "1.5.0",
      "_model_name": "ProgressStyleModel",
      "_view_count": null,
      "_view_module": "@jupyter-widgets/base",
      "_view_module_version": "1.2.0",
      "_view_name": "StyleView",
      "bar_color": null,
      "description_width": ""
     }
    },
    "5dd6d814f36c448b83c12f6b539cc10d": {
     "model_module": "@jupyter-widgets/base",
     "model_module_version": "1.2.0",
     "model_name": "LayoutModel",
     "state": {
      "_model_module": "@jupyter-widgets/base",
      "_model_module_version": "1.2.0",
      "_model_name": "LayoutModel",
      "_view_count": null,
      "_view_module": "@jupyter-widgets/base",
      "_view_module_version": "1.2.0",
      "_view_name": "LayoutView",
      "align_content": null,
      "align_items": null,
      "align_self": null,
      "border": null,
      "bottom": null,
      "display": null,
      "flex": null,
      "flex_flow": null,
      "grid_area": null,
      "grid_auto_columns": null,
      "grid_auto_flow": null,
      "grid_auto_rows": null,
      "grid_column": null,
      "grid_gap": null,
      "grid_row": null,
      "grid_template_areas": null,
      "grid_template_columns": null,
      "grid_template_rows": null,
      "height": null,
      "justify_content": null,
      "justify_items": null,
      "left": null,
      "margin": null,
      "max_height": null,
      "max_width": null,
      "min_height": null,
      "min_width": null,
      "object_fit": null,
      "object_position": null,
      "order": null,
      "overflow": null,
      "overflow_x": null,
      "overflow_y": null,
      "padding": null,
      "right": null,
      "top": null,
      "visibility": null,
      "width": null
     }
    },
    "67a8a69a93e448019c418eee6681b5a9": {
     "model_module": "@jupyter-widgets/controls",
     "model_module_version": "1.5.0",
     "model_name": "HBoxModel",
     "state": {
      "_dom_classes": [],
      "_model_module": "@jupyter-widgets/controls",
      "_model_module_version": "1.5.0",
      "_model_name": "HBoxModel",
      "_view_count": null,
      "_view_module": "@jupyter-widgets/controls",
      "_view_module_version": "1.5.0",
      "_view_name": "HBoxView",
      "box_style": "",
      "children": [
       "IPY_MODEL_c248f3c2d679480294575b9dc4fb7694",
       "IPY_MODEL_75f5cd2b2287469985b688c5fa0a1f6c",
       "IPY_MODEL_3a36760b5a2e458c8030af60d8f43000"
      ],
      "layout": "IPY_MODEL_aab8e65528f84f1092bd7d84475cce7f"
     }
    },
    "6a6e39529f2b4cc6ac55f8f56593b073": {
     "model_module": "@jupyter-widgets/controls",
     "model_module_version": "1.5.0",
     "model_name": "ProgressStyleModel",
     "state": {
      "_model_module": "@jupyter-widgets/controls",
      "_model_module_version": "1.5.0",
      "_model_name": "ProgressStyleModel",
      "_view_count": null,
      "_view_module": "@jupyter-widgets/base",
      "_view_module_version": "1.2.0",
      "_view_name": "StyleView",
      "bar_color": null,
      "description_width": ""
     }
    },
    "6c43bba4743d426b94466c224e9463fb": {
     "model_module": "@jupyter-widgets/base",
     "model_module_version": "1.2.0",
     "model_name": "LayoutModel",
     "state": {
      "_model_module": "@jupyter-widgets/base",
      "_model_module_version": "1.2.0",
      "_model_name": "LayoutModel",
      "_view_count": null,
      "_view_module": "@jupyter-widgets/base",
      "_view_module_version": "1.2.0",
      "_view_name": "LayoutView",
      "align_content": null,
      "align_items": null,
      "align_self": null,
      "border": null,
      "bottom": null,
      "display": null,
      "flex": null,
      "flex_flow": null,
      "grid_area": null,
      "grid_auto_columns": null,
      "grid_auto_flow": null,
      "grid_auto_rows": null,
      "grid_column": null,
      "grid_gap": null,
      "grid_row": null,
      "grid_template_areas": null,
      "grid_template_columns": null,
      "grid_template_rows": null,
      "height": null,
      "justify_content": null,
      "justify_items": null,
      "left": null,
      "margin": null,
      "max_height": null,
      "max_width": null,
      "min_height": null,
      "min_width": null,
      "object_fit": null,
      "object_position": null,
      "order": null,
      "overflow": null,
      "overflow_x": null,
      "overflow_y": null,
      "padding": null,
      "right": null,
      "top": null,
      "visibility": null,
      "width": null
     }
    },
    "7477b17c0d764f9dbb0969834c2d986b": {
     "model_module": "@jupyter-widgets/controls",
     "model_module_version": "1.5.0",
     "model_name": "HTMLModel",
     "state": {
      "_dom_classes": [],
      "_model_module": "@jupyter-widgets/controls",
      "_model_module_version": "1.5.0",
      "_model_name": "HTMLModel",
      "_view_count": null,
      "_view_module": "@jupyter-widgets/controls",
      "_view_module_version": "1.5.0",
      "_view_name": "HTMLView",
      "description": "",
      "description_tooltip": null,
      "layout": "IPY_MODEL_81ccea8b63484bed8559d1a31148050b",
      "placeholder": "​",
      "style": "IPY_MODEL_fa8f9278a1564cd1803b53bbee6ab28b",
      "value": "100%"
     }
    },
    "75f5cd2b2287469985b688c5fa0a1f6c": {
     "model_module": "@jupyter-widgets/controls",
     "model_module_version": "1.5.0",
     "model_name": "FloatProgressModel",
     "state": {
      "_dom_classes": [],
      "_model_module": "@jupyter-widgets/controls",
      "_model_module_version": "1.5.0",
      "_model_name": "FloatProgressModel",
      "_view_count": null,
      "_view_module": "@jupyter-widgets/controls",
      "_view_module_version": "1.5.0",
      "_view_name": "ProgressView",
      "bar_style": "success",
      "description": "",
      "description_tooltip": null,
      "layout": "IPY_MODEL_3acbbbdee1274208b789924abf63969f",
      "max": 57,
      "min": 0,
      "orientation": "horizontal",
      "style": "IPY_MODEL_6a6e39529f2b4cc6ac55f8f56593b073",
      "value": 57
     }
    },
    "81ccea8b63484bed8559d1a31148050b": {
     "model_module": "@jupyter-widgets/base",
     "model_module_version": "1.2.0",
     "model_name": "LayoutModel",
     "state": {
      "_model_module": "@jupyter-widgets/base",
      "_model_module_version": "1.2.0",
      "_model_name": "LayoutModel",
      "_view_count": null,
      "_view_module": "@jupyter-widgets/base",
      "_view_module_version": "1.2.0",
      "_view_name": "LayoutView",
      "align_content": null,
      "align_items": null,
      "align_self": null,
      "border": null,
      "bottom": null,
      "display": null,
      "flex": null,
      "flex_flow": null,
      "grid_area": null,
      "grid_auto_columns": null,
      "grid_auto_flow": null,
      "grid_auto_rows": null,
      "grid_column": null,
      "grid_gap": null,
      "grid_row": null,
      "grid_template_areas": null,
      "grid_template_columns": null,
      "grid_template_rows": null,
      "height": null,
      "justify_content": null,
      "justify_items": null,
      "left": null,
      "margin": null,
      "max_height": null,
      "max_width": null,
      "min_height": null,
      "min_width": null,
      "object_fit": null,
      "object_position": null,
      "order": null,
      "overflow": null,
      "overflow_x": null,
      "overflow_y": null,
      "padding": null,
      "right": null,
      "top": null,
      "visibility": null,
      "width": null
     }
    },
    "820a5fe143134c51b695048d6023122d": {
     "model_module": "@jupyter-widgets/base",
     "model_module_version": "1.2.0",
     "model_name": "LayoutModel",
     "state": {
      "_model_module": "@jupyter-widgets/base",
      "_model_module_version": "1.2.0",
      "_model_name": "LayoutModel",
      "_view_count": null,
      "_view_module": "@jupyter-widgets/base",
      "_view_module_version": "1.2.0",
      "_view_name": "LayoutView",
      "align_content": null,
      "align_items": null,
      "align_self": null,
      "border": null,
      "bottom": null,
      "display": null,
      "flex": null,
      "flex_flow": null,
      "grid_area": null,
      "grid_auto_columns": null,
      "grid_auto_flow": null,
      "grid_auto_rows": null,
      "grid_column": null,
      "grid_gap": null,
      "grid_row": null,
      "grid_template_areas": null,
      "grid_template_columns": null,
      "grid_template_rows": null,
      "height": null,
      "justify_content": null,
      "justify_items": null,
      "left": null,
      "margin": null,
      "max_height": null,
      "max_width": null,
      "min_height": null,
      "min_width": null,
      "object_fit": null,
      "object_position": null,
      "order": null,
      "overflow": null,
      "overflow_x": null,
      "overflow_y": null,
      "padding": null,
      "right": null,
      "top": null,
      "visibility": null,
      "width": null
     }
    },
    "9b24be5ac06f49ed90705bf438613a13": {
     "model_module": "@jupyter-widgets/controls",
     "model_module_version": "1.5.0",
     "model_name": "DescriptionStyleModel",
     "state": {
      "_model_module": "@jupyter-widgets/controls",
      "_model_module_version": "1.5.0",
      "_model_name": "DescriptionStyleModel",
      "_view_count": null,
      "_view_module": "@jupyter-widgets/base",
      "_view_module_version": "1.2.0",
      "_view_name": "StyleView",
      "description_width": ""
     }
    },
    "a2105da14a364519ba16be7b9390d3f1": {
     "model_module": "@jupyter-widgets/controls",
     "model_module_version": "1.5.0",
     "model_name": "HBoxModel",
     "state": {
      "_dom_classes": [],
      "_model_module": "@jupyter-widgets/controls",
      "_model_module_version": "1.5.0",
      "_model_name": "HBoxModel",
      "_view_count": null,
      "_view_module": "@jupyter-widgets/controls",
      "_view_module_version": "1.5.0",
      "_view_name": "HBoxView",
      "box_style": "",
      "children": [
       "IPY_MODEL_7477b17c0d764f9dbb0969834c2d986b",
       "IPY_MODEL_10ef518e212744b582b5d6f670f08f8a",
       "IPY_MODEL_cdb90cefb0d14e25969dd2979346d8b1"
      ],
      "layout": "IPY_MODEL_b2a386e2b9ed4f47b2cf3de1d9a668ba"
     }
    },
    "a21ed9abcf3b474392b320a2750dde34": {
     "model_module": "@jupyter-widgets/controls",
     "model_module_version": "1.5.0",
     "model_name": "DescriptionStyleModel",
     "state": {
      "_model_module": "@jupyter-widgets/controls",
      "_model_module_version": "1.5.0",
      "_model_name": "DescriptionStyleModel",
      "_view_count": null,
      "_view_module": "@jupyter-widgets/base",
      "_view_module_version": "1.2.0",
      "_view_name": "StyleView",
      "description_width": ""
     }
    },
    "a8623607eb0546de8890c2185142464b": {
     "model_module": "@jupyter-widgets/controls",
     "model_module_version": "1.5.0",
     "model_name": "DescriptionStyleModel",
     "state": {
      "_model_module": "@jupyter-widgets/controls",
      "_model_module_version": "1.5.0",
      "_model_name": "DescriptionStyleModel",
      "_view_count": null,
      "_view_module": "@jupyter-widgets/base",
      "_view_module_version": "1.2.0",
      "_view_name": "StyleView",
      "description_width": ""
     }
    },
    "aab8e65528f84f1092bd7d84475cce7f": {
     "model_module": "@jupyter-widgets/base",
     "model_module_version": "1.2.0",
     "model_name": "LayoutModel",
     "state": {
      "_model_module": "@jupyter-widgets/base",
      "_model_module_version": "1.2.0",
      "_model_name": "LayoutModel",
      "_view_count": null,
      "_view_module": "@jupyter-widgets/base",
      "_view_module_version": "1.2.0",
      "_view_name": "LayoutView",
      "align_content": null,
      "align_items": null,
      "align_self": null,
      "border": null,
      "bottom": null,
      "display": null,
      "flex": null,
      "flex_flow": null,
      "grid_area": null,
      "grid_auto_columns": null,
      "grid_auto_flow": null,
      "grid_auto_rows": null,
      "grid_column": null,
      "grid_gap": null,
      "grid_row": null,
      "grid_template_areas": null,
      "grid_template_columns": null,
      "grid_template_rows": null,
      "height": null,
      "justify_content": null,
      "justify_items": null,
      "left": null,
      "margin": null,
      "max_height": null,
      "max_width": null,
      "min_height": null,
      "min_width": null,
      "object_fit": null,
      "object_position": null,
      "order": null,
      "overflow": null,
      "overflow_x": null,
      "overflow_y": null,
      "padding": null,
      "right": null,
      "top": null,
      "visibility": null,
      "width": null
     }
    },
    "b2a386e2b9ed4f47b2cf3de1d9a668ba": {
     "model_module": "@jupyter-widgets/base",
     "model_module_version": "1.2.0",
     "model_name": "LayoutModel",
     "state": {
      "_model_module": "@jupyter-widgets/base",
      "_model_module_version": "1.2.0",
      "_model_name": "LayoutModel",
      "_view_count": null,
      "_view_module": "@jupyter-widgets/base",
      "_view_module_version": "1.2.0",
      "_view_name": "LayoutView",
      "align_content": null,
      "align_items": null,
      "align_self": null,
      "border": null,
      "bottom": null,
      "display": null,
      "flex": null,
      "flex_flow": null,
      "grid_area": null,
      "grid_auto_columns": null,
      "grid_auto_flow": null,
      "grid_auto_rows": null,
      "grid_column": null,
      "grid_gap": null,
      "grid_row": null,
      "grid_template_areas": null,
      "grid_template_columns": null,
      "grid_template_rows": null,
      "height": null,
      "justify_content": null,
      "justify_items": null,
      "left": null,
      "margin": null,
      "max_height": null,
      "max_width": null,
      "min_height": null,
      "min_width": null,
      "object_fit": null,
      "object_position": null,
      "order": null,
      "overflow": null,
      "overflow_x": null,
      "overflow_y": null,
      "padding": null,
      "right": null,
      "top": null,
      "visibility": null,
      "width": null
     }
    },
    "c248f3c2d679480294575b9dc4fb7694": {
     "model_module": "@jupyter-widgets/controls",
     "model_module_version": "1.5.0",
     "model_name": "HTMLModel",
     "state": {
      "_dom_classes": [],
      "_model_module": "@jupyter-widgets/controls",
      "_model_module_version": "1.5.0",
      "_model_name": "HTMLModel",
      "_view_count": null,
      "_view_module": "@jupyter-widgets/controls",
      "_view_module_version": "1.5.0",
      "_view_name": "HTMLView",
      "description": "",
      "description_tooltip": null,
      "layout": "IPY_MODEL_6c43bba4743d426b94466c224e9463fb",
      "placeholder": "​",
      "style": "IPY_MODEL_a8623607eb0546de8890c2185142464b",
      "value": "100%"
     }
    },
    "cdb90cefb0d14e25969dd2979346d8b1": {
     "model_module": "@jupyter-widgets/controls",
     "model_module_version": "1.5.0",
     "model_name": "HTMLModel",
     "state": {
      "_dom_classes": [],
      "_model_module": "@jupyter-widgets/controls",
      "_model_module_version": "1.5.0",
      "_model_name": "HTMLModel",
      "_view_count": null,
      "_view_module": "@jupyter-widgets/controls",
      "_view_module_version": "1.5.0",
      "_view_name": "HTMLView",
      "description": "",
      "description_tooltip": null,
      "layout": "IPY_MODEL_e53eddf86acd4c06b6b7cdd673cd2416",
      "placeholder": "​",
      "style": "IPY_MODEL_a21ed9abcf3b474392b320a2750dde34",
      "value": " 57/57 [00:00&lt;00:00, 99.81it/s]"
     }
    },
    "e53eddf86acd4c06b6b7cdd673cd2416": {
     "model_module": "@jupyter-widgets/base",
     "model_module_version": "1.2.0",
     "model_name": "LayoutModel",
     "state": {
      "_model_module": "@jupyter-widgets/base",
      "_model_module_version": "1.2.0",
      "_model_name": "LayoutModel",
      "_view_count": null,
      "_view_module": "@jupyter-widgets/base",
      "_view_module_version": "1.2.0",
      "_view_name": "LayoutView",
      "align_content": null,
      "align_items": null,
      "align_self": null,
      "border": null,
      "bottom": null,
      "display": null,
      "flex": null,
      "flex_flow": null,
      "grid_area": null,
      "grid_auto_columns": null,
      "grid_auto_flow": null,
      "grid_auto_rows": null,
      "grid_column": null,
      "grid_gap": null,
      "grid_row": null,
      "grid_template_areas": null,
      "grid_template_columns": null,
      "grid_template_rows": null,
      "height": null,
      "justify_content": null,
      "justify_items": null,
      "left": null,
      "margin": null,
      "max_height": null,
      "max_width": null,
      "min_height": null,
      "min_width": null,
      "object_fit": null,
      "object_position": null,
      "order": null,
      "overflow": null,
      "overflow_x": null,
      "overflow_y": null,
      "padding": null,
      "right": null,
      "top": null,
      "visibility": null,
      "width": null
     }
    },
    "fa8f9278a1564cd1803b53bbee6ab28b": {
     "model_module": "@jupyter-widgets/controls",
     "model_module_version": "1.5.0",
     "model_name": "DescriptionStyleModel",
     "state": {
      "_model_module": "@jupyter-widgets/controls",
      "_model_module_version": "1.5.0",
      "_model_name": "DescriptionStyleModel",
      "_view_count": null,
      "_view_module": "@jupyter-widgets/base",
      "_view_module_version": "1.2.0",
      "_view_name": "StyleView",
      "description_width": ""
     }
    }
   }
  }
 },
 "nbformat": 4,
 "nbformat_minor": 1
}
